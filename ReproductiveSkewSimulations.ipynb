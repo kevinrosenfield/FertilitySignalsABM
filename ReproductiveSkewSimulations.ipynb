{
 "cells": [
  {
   "cell_type": "markdown",
   "metadata": {
    "heading_collapsed": true
   },
   "source": [
    "# Mitani's calculation of synchrony"
   ]
  },
  {
   "cell_type": "code",
   "execution_count": 6,
   "metadata": {
    "hidden": true
   },
   "outputs": [
    {
     "data": {
      "text/plain": [
       "13.333333333333334"
      ]
     },
     "execution_count": 6,
     "metadata": {},
     "output_type": "execute_result"
    }
   ],
   "source": [
    "males = 10\n",
    "females = 10\n",
    "mating_season_length = 100\n",
    "IBI = 1\n",
    "POP_length = 5\n",
    "cycles_to_conception = 3\n",
    "\n",
    "(males * IBI * mating_season_length) / (females * POP_length * cycles_to_conception)"
   ]
  },
  {
   "cell_type": "markdown",
   "metadata": {
    "heading_collapsed": true
   },
   "source": [
    "# Imports"
   ]
  },
  {
   "cell_type": "code",
   "execution_count": 8,
   "metadata": {
    "hidden": true
   },
   "outputs": [
    {
     "name": "stderr",
     "output_type": "stream",
     "text": [
      "/Users/kevinrosenfield/opt/anaconda3/lib/python3.7/site-packages/statsmodels/tools/_testing.py:19: FutureWarning: pandas.util.testing is deprecated. Use the functions in the public API at pandas.testing instead.\n",
      "  import pandas.util.testing as tm\n"
     ]
    }
   ],
   "source": [
    "import random as rd\n",
    "import os\n",
    "import math\n",
    "from math import sqrt\n",
    "import statistics\n",
    "import numpy as np\n",
    "import pandas as pd\n",
    "from pandas.plotting import scatter_matrix\n",
    "from numpy.random import choice\n",
    "from numpy.random import uniform\n",
    "from numpy.random import normal\n",
    "from numpy.random import randint\n",
    "from numpy.random import permutation\n",
    "from numpy import corrcoef\n",
    "from numpy import flip\n",
    "from numpy import around\n",
    "from numpy import array as nparray\n",
    "from numpy import arange as arange\n",
    "from random import choices as rdchoices\n",
    "from random import uniform as rduniform\n",
    "import numba as nb\n",
    "import time\n",
    "import scipy.stats\n",
    "from scipy.stats import multivariate_normal as mvn\n",
    "from sklearn.utils import shuffle\n",
    "import statistics\n",
    "import matplotlib.pyplot as plt\n",
    "from matplotlib.pyplot import plot as plot\n",
    "from matplotlib.pyplot import figure as figure\n",
    "from collections import Counter\n",
    "from scipy.stats import skewnorm\n",
    "from itertools import chain\n",
    "import cProfile, pstats\n",
    "from tqdm import tqdm\n",
    "import seaborn as sns\n",
    "import datetime\n",
    "import statsmodels.api as sm\n",
    "import statsmodels.formula.api as smf"
   ]
  },
  {
   "cell_type": "markdown",
   "metadata": {},
   "source": [
    "# Class definitions"
   ]
  },
  {
   "cell_type": "markdown",
   "metadata": {
    "heading_collapsed": true
   },
   "source": [
    "## Female"
   ]
  },
  {
   "cell_type": "code",
   "execution_count": 2,
   "metadata": {
    "hidden": true
   },
   "outputs": [],
   "source": [
    "# an object of the class 'male' represents a single male; 'male' objects are indexed in the 'males'\n",
    "# list contained in 'group' objects\n",
    "\n",
    "class female:\n",
    "\n",
    "    def __init__(self, f, parentGroup, gen, genes=[0, 0, 0, 0]):\n",
    "\n",
    "        self.ID = f\n",
    "        self.status, self.cycleDay = \"nonCycling\", False\n",
    "        self.conceptionProbability, myConceptionProbabilityList = 0, []\n",
    "        self.nonCyclingLength = randint(rangeOfNonCyclingDays + 1)\n",
    "        self.daysUntilCycling = self.nonCyclingLength\n",
    "        self.daysUntilConception = False\n",
    "        self.myConceptionProbabilityList = []\n",
    "        self.genes = genes\n",
    "        self.reproductiveSuccess = 0\n",
    "        self.cost = 0\n",
    "        self.uniqueID = str(gen) + '-' + str(parentGroup) + str(self.ID)\n",
    "\n",
    "    def switchToCycling(self):\n",
    "\n",
    "        self.cycleDay = 0\n",
    "        self.status = \"cycling\"\n",
    "        self.cyclingLength = abs(\n",
    "            round(normal(meanDaysToConception, sdDaysToConception)))\n",
    "        self.daysUntilConception = self.cyclingLength\n",
    "        self.conceptionProbability = conceptionProbabilityList[0]\n",
    "\n",
    "    def switchToDone(self):\n",
    "\n",
    "        self.cycleDay = False\n",
    "        self.status = \"done\""
   ]
  },
  {
   "cell_type": "markdown",
   "metadata": {
    "heading_collapsed": true
   },
   "source": [
    "## Male"
   ]
  },
  {
   "cell_type": "code",
   "execution_count": 3,
   "metadata": {
    "hidden": true
   },
   "outputs": [],
   "source": [
    "# an object of the class 'male' represents a single male; 'male' objects are indexed in the 'males'\n",
    "# list contained in 'group' objects\n",
    "\n",
    "class male:\n",
    "    \n",
    "    def __init__(self, m, parentGroup,gen,genes=[0,0,0,0]):\n",
    "        \n",
    "        self.noise = (1 - qualityHeritability )/ qualityHeritability\n",
    "        self.ID = m\n",
    "        self.genes = genes\n",
    "        #self.quality = (((self.genes[0] + self.genes[1])/2) + uniform(0,self.noise)) / (1 + self.noise)\n",
    "        self.qualityMean = ((self.genes[0] + self.genes[1]) / 2)\n",
    "        self.quality = (self.qualityMean * qualityHeritability) + (uniform(0,1) * (1 - qualityHeritability))\n",
    "        \n",
    "        self.competitiveEffort = (self.genes[2] + self.genes[3]) / 2\n",
    "        self.rank = 0\n",
    "        self.cost = 0\n",
    "        self.reproductiveSuccess = 0\n",
    "        self.matings = 0\n",
    "        self.uniqueID = str(gen) + '-' + str(parentGroup)+ str(self.ID)"
   ]
  },
  {
   "cell_type": "code",
   "execution_count": 3,
   "metadata": {
    "hidden": true
   },
   "outputs": [
    {
     "ename": "NameError",
     "evalue": "name 'heritability' is not defined",
     "output_type": "error",
     "traceback": [
      "\u001b[0;31m---------------------------------------------------------------------------\u001b[0m",
      "\u001b[0;31mNameError\u001b[0m                                 Traceback (most recent call last)",
      "\u001b[0;32m<ipython-input-3-404ff7e68643>\u001b[0m in \u001b[0;36m<module>\u001b[0;34m\u001b[0m\n\u001b[1;32m      5\u001b[0m     \u001b[0mqualityNoise\u001b[0m \u001b[0;34m=\u001b[0m \u001b[0muniform\u001b[0m\u001b[0;34m(\u001b[0m\u001b[0;34m-\u001b[0m\u001b[0;36m0.5\u001b[0m \u001b[0;34m+\u001b[0m \u001b[0mv\u001b[0m\u001b[0;34m,\u001b[0m \u001b[0;36m0.5\u001b[0m \u001b[0;34m-\u001b[0m \u001b[0mv\u001b[0m\u001b[0;34m,\u001b[0m \u001b[0;36m100000\u001b[0m\u001b[0;34m)\u001b[0m\u001b[0;34m\u001b[0m\u001b[0;34m\u001b[0m\u001b[0m\n\u001b[1;32m      6\u001b[0m     \u001b[0mactualQuality\u001b[0m \u001b[0;34m=\u001b[0m \u001b[0;34m[\u001b[0m\u001b[0mqualityGenes\u001b[0m\u001b[0;34m[\u001b[0m\u001b[0mi\u001b[0m\u001b[0;34m]\u001b[0m \u001b[0;34m+\u001b[0m \u001b[0mqualityNoise\u001b[0m\u001b[0;34m[\u001b[0m\u001b[0mi\u001b[0m\u001b[0;34m]\u001b[0m \u001b[0;32mfor\u001b[0m \u001b[0mi\u001b[0m \u001b[0;32min\u001b[0m \u001b[0mrange\u001b[0m\u001b[0;34m(\u001b[0m\u001b[0mlen\u001b[0m\u001b[0;34m(\u001b[0m\u001b[0mqualityGenes\u001b[0m\u001b[0;34m)\u001b[0m\u001b[0;34m)\u001b[0m\u001b[0;34m]\u001b[0m\u001b[0;34m\u001b[0m\u001b[0;34m\u001b[0m\u001b[0m\n\u001b[0;32m----> 7\u001b[0;31m     \u001b[0mheritability\u001b[0m\u001b[0;34m.\u001b[0m\u001b[0mappend\u001b[0m\u001b[0;34m(\u001b[0m\u001b[0mstatistics\u001b[0m\u001b[0;34m.\u001b[0m\u001b[0mvariance\u001b[0m\u001b[0;34m(\u001b[0m\u001b[0;34m[\u001b[0m\u001b[0mq\u001b[0m \u001b[0;32mfor\u001b[0m \u001b[0mq\u001b[0m \u001b[0;32min\u001b[0m \u001b[0mqualityGenes\u001b[0m\u001b[0;34m]\u001b[0m\u001b[0;34m)\u001b[0m \u001b[0;34m/\u001b[0m \u001b[0mstatistics\u001b[0m\u001b[0;34m.\u001b[0m\u001b[0mvariance\u001b[0m\u001b[0;34m(\u001b[0m\u001b[0;34m[\u001b[0m\u001b[0mq\u001b[0m \u001b[0;32mfor\u001b[0m \u001b[0mq\u001b[0m \u001b[0;32min\u001b[0m \u001b[0mactualQuality\u001b[0m\u001b[0;34m]\u001b[0m\u001b[0;34m)\u001b[0m\u001b[0;34m)\u001b[0m\u001b[0;34m\u001b[0m\u001b[0;34m\u001b[0m\u001b[0m\n\u001b[0m\u001b[1;32m      8\u001b[0m \u001b[0;34m\u001b[0m\u001b[0m\n\u001b[1;32m      9\u001b[0m \u001b[0mheritability\u001b[0m \u001b[0;34m=\u001b[0m \u001b[0;34m{\u001b[0m\u001b[0;36m1\u001b[0m\u001b[0;34m-\u001b[0m\u001b[0mi\u001b[0m\u001b[0;34m:\u001b[0m\u001b[0mj\u001b[0m \u001b[0;32mfor\u001b[0m \u001b[0mi\u001b[0m\u001b[0;34m,\u001b[0m\u001b[0mj\u001b[0m \u001b[0;32min\u001b[0m \u001b[0mzip\u001b[0m\u001b[0;34m(\u001b[0m\u001b[0mgenVar\u001b[0m\u001b[0;34m,\u001b[0m \u001b[0mheritability\u001b[0m\u001b[0;34m)\u001b[0m\u001b[0;34m}\u001b[0m\u001b[0;34m\u001b[0m\u001b[0;34m\u001b[0m\u001b[0m\n",
      "\u001b[0;31mNameError\u001b[0m: name 'heritability' is not defined"
     ]
    }
   ],
   "source": [
    "#varList2 = []\n",
    "genVar = [i/1000 for i in range(0,501)]\n",
    "for v in genVar:\n",
    "    qualityGenes = uniform(0.5-v,0.5+v,100000)\n",
    "    qualityNoise = uniform(-0.5 + v, 0.5 - v, 100000)\n",
    "    actualQuality = [qualityGenes[i] + qualityNoise[i] for i in range(len(qualityGenes))]\n",
    "    heritability.append(statistics.variance([q for q in qualityGenes]) / statistics.variance([q for q in actualQuality]))\n",
    "\n",
    "heritability = {(1-i)/2:j for i,j in zip(genVar, heritability)}\n"
   ]
  },
  {
   "cell_type": "code",
   "execution_count": 164,
   "metadata": {
    "hidden": true
   },
   "outputs": [
    {
     "data": {
      "text/plain": [
       "{0.0: 0.033,\n",
       " 0.01: 0.054,\n",
       " 0.02: 0.069,\n",
       " 0.03: 0.079,\n",
       " 0.04: 0.088,\n",
       " 0.05: 0.097,\n",
       " 0.06: 0.104,\n",
       " 0.07: 0.11,\n",
       " 0.08: 0.116,\n",
       " 0.09: 0.122,\n",
       " 0.1: 0.127,\n",
       " 0.11: 0.132,\n",
       " 0.12: 0.137,\n",
       " 0.13: 0.141,\n",
       " 0.14: 0.146,\n",
       " 0.15: 0.149,\n",
       " 0.16: 0.154,\n",
       " 0.17: 0.157,\n",
       " 0.18: 0.161,\n",
       " 0.19: 0.164,\n",
       " 0.2: 0.168,\n",
       " 0.21: 0.172,\n",
       " 0.22: 0.174,\n",
       " 0.23: 0.178,\n",
       " 0.24: 0.181,\n",
       " 0.25: 0.184,\n",
       " 0.26: 0.187,\n",
       " 0.27: 0.19,\n",
       " 0.28: 0.193,\n",
       " 0.29: 0.196,\n",
       " 0.3: 0.199,\n",
       " 0.31: 0.201,\n",
       " 0.32: 0.204,\n",
       " 0.33: 0.206,\n",
       " 0.34: 0.21,\n",
       " 0.35: 0.212,\n",
       " 0.36: 0.215,\n",
       " 0.37: 0.218,\n",
       " 0.38: 0.22,\n",
       " 0.39: 0.223,\n",
       " 0.4: 0.226,\n",
       " 0.41: 0.228,\n",
       " 0.42: 0.23,\n",
       " 0.43: 0.232,\n",
       " 0.44: 0.235,\n",
       " 0.45: 0.239,\n",
       " 0.46: 0.241,\n",
       " 0.47: 0.244,\n",
       " 0.48: 0.246,\n",
       " 0.49: 0.248,\n",
       " 0.5: 0.25,\n",
       " 0.51: 0.253,\n",
       " 0.52: 0.256,\n",
       " 0.53: 0.258,\n",
       " 0.54: 0.261,\n",
       " 0.55: 0.263,\n",
       " 0.56: 0.265,\n",
       " 0.57: 0.268,\n",
       " 0.58: 0.271,\n",
       " 0.59: 0.274,\n",
       " 0.6: 0.276,\n",
       " 0.61: 0.278,\n",
       " 0.62: 0.282,\n",
       " 0.63: 0.283,\n",
       " 0.64: 0.286,\n",
       " 0.65: 0.29,\n",
       " 0.66: 0.292,\n",
       " 0.67: 0.295,\n",
       " 0.68: 0.296,\n",
       " 0.69: 0.3,\n",
       " 0.7: 0.304,\n",
       " 0.71: 0.307,\n",
       " 0.72: 0.309,\n",
       " 0.73: 0.313,\n",
       " 0.74: 0.316,\n",
       " 0.75: 0.318,\n",
       " 0.76: 0.321,\n",
       " 0.77: 0.325,\n",
       " 0.78: 0.328,\n",
       " 0.79: 0.331,\n",
       " 0.8: 0.335,\n",
       " 0.81: 0.339,\n",
       " 0.82: 0.341,\n",
       " 0.83: 0.346,\n",
       " 0.84: 0.35,\n",
       " 0.85: 0.353,\n",
       " 0.86: 0.357,\n",
       " 0.87: 0.362,\n",
       " 0.88: 0.365,\n",
       " 0.89: 0.371,\n",
       " 0.9: 0.378,\n",
       " 0.91: 0.382,\n",
       " 0.92: 0.388,\n",
       " 0.93: 0.396,\n",
       " 0.94: 0.403,\n",
       " 0.95: 0.411,\n",
       " 0.96: 0.42,\n",
       " 0.97: 0.43,\n",
       " 0.98: 0.446,\n",
       " 0.99: 0.466,\n",
       " 1.0: 0.5}"
      ]
     },
     "execution_count": 164,
     "metadata": {},
     "output_type": "execute_result"
    }
   ],
   "source": [
    "heritability2"
   ]
  },
  {
   "cell_type": "code",
   "execution_count": 156,
   "metadata": {
    "hidden": true
   },
   "outputs": [
    {
     "data": {
      "text/plain": [
       "[<matplotlib.lines.Line2D at 0x7fc9673187d0>]"
      ]
     },
     "execution_count": 156,
     "metadata": {},
     "output_type": "execute_result"
    },
    {
     "data": {
      "image/png": "[encoded data removed]",
      "text/plain": [
       "<Figure size 432x288 with 1 Axes>"
      ]
     },
     "metadata": {
      "needs_background": "light"
     },
     "output_type": "display_data"
    }
   ],
   "source": [
    "plt.plot([*heritability2.keys()], [*heritability2.values()], 'bo')"
   ]
  },
  {
   "cell_type": "code",
   "execution_count": 232,
   "metadata": {
    "hidden": true
   },
   "outputs": [
    {
     "data": {
      "text/plain": [
       "[2, 2, 1, 0, 0, 0, 1, 0, 0, 0]"
      ]
     },
     "execution_count": 232,
     "metadata": {},
     "output_type": "execute_result"
    }
   ],
   "source": [
    "N = 10\n",
    "K = 1\n",
    "M = 2\n",
    "S = [2, 6]\n",
    "\n",
    "def getMaxAdditionalDinersCount(N: int, K: int, M: int, S: List[int]) -> int:\n",
    "    s_list = [0] * N\n",
    "\n",
    "    for s in S:\n",
    "        s_list[s] = 1\n",
    "        \n",
    "    consecutive_empty = 1\n",
    "    additional_guests = 0\n",
    "    \n",
    "    for s in s_list:\n",
    "        if s == 0:\n",
    "            consecutive_empty += 1\n",
    "        elif consecutive_empty >= K * 3:\n",
    "            additional_guests += math.floor(consecutive_empty / (K * 3))\n",
    "            consecutive_empty = 0\n",
    "        else:\n",
    "            consecutive_empty = 0\n",
    "    \n",
    "    if consecutive_empty >= K + 1:\n",
    "        additional_guests += math.floor((consecutive_empty + 1) / (K * 3))\n",
    "        \n",
    "    return additional_guests\n"
   ]
  },
  {
   "cell_type": "markdown",
   "metadata": {},
   "source": [
    "## Group"
   ]
  },
  {
   "cell_type": "code",
   "execution_count": 4,
   "metadata": {},
   "outputs": [],
   "source": [
    "# an object of the class 'group' represents a single group of primates; 'group'\n",
    "# objects are indexed in the 'groups' list contained in 'population' objects\n",
    "\n",
    "class group:\n",
    "\n",
    "    # when a 'group' object is initialized, 'male' and 'female' objects are automatically instantiated in lists\n",
    "    # ('males' and 'females') contained in the 'group' object\n",
    "    # the male dominance hierarchy is set when the 'setRanks' method runs during 'group' initialization\n",
    "\n",
    "    \n",
    "    def __init__(self, g, gen):\n",
    "\n",
    "        self.ID = g\n",
    "        self.females = [\n",
    "            female(f, self.ID, gen, genes=uniform(0, 1, 4))\n",
    "            for f in range(nFemales)\n",
    "        ]\n",
    "        self.males = [\n",
    "            male(m, self.ID, gen, genes=uniform(0, 1, 4))\n",
    "            for m in range(nMales)\n",
    "        ]\n",
    "        self.modelDays = 0\n",
    "        self.setRanks()\n",
    "        self.actualRankQualityCorrelation = corrcoef(\n",
    "            [nMales - m.rank for m in self.males],\n",
    "            [np.mean([m.genes[0], m.genes[1]]) for m in self.males])[1, 0]\n",
    "\n",
    "    # the method 'go' of class 'group' carries out a simulation of daily mating competition until all 'female'\n",
    "    # objects have conceived (their 'status' attribute has switched from 'cycling' to 'nonCycling')\n",
    "\n",
    "    def go(self):\n",
    "\n",
    "        [initialData(self.ID, m) for m in self.males]\n",
    "        self.males = sorted(self.males, key=self.sortRank)\n",
    "\n",
    "        for r in range(10000):\n",
    "            self.modelDays += 1\n",
    "            if all([item.status == \"done\" for item in self.females]):\n",
    "                break\n",
    "\n",
    "            #self.females = sorted(self.females, key=self.sortConceptionProbability, reverse = True)\n",
    "\n",
    "            self.females = permutation(self.females)\n",
    "            self.females = sorted(self.females,\n",
    "                                  key=self.sortStatus,\n",
    "                                  reverse=False)\n",
    "\n",
    "            self.conceptionProbabilities = [\n",
    "                f.conceptionProbability for f in self.females\n",
    "            ]\n",
    "\n",
    "            self.makeMatingPairs() if any(self.conceptionProbabilities) else 0\n",
    "\n",
    "            for f in [\n",
    "                    item for item in self.females if item.status == \"cycling\"\n",
    "            ]:\n",
    "                f.daysUntilConception -= 1\n",
    "                f.cycleDay = f.cycleDay + 1 if f.cycleDay < cycleLength - 1 else 0\n",
    "                f.conceptionProbability = conceptionProbabilityList[f.cycleDay]\n",
    "                f.myConceptionProbabilityList += [\n",
    "                    conceptionProbabilityList[f.cycleDay]\n",
    "                ]\n",
    "                f.switchToDone() if f.daysUntilConception <= 0 else 0\n",
    "\n",
    "            for f in [\n",
    "                    item for item in self.females\n",
    "                    if item.status == \"nonCycling\"\n",
    "            ]:\n",
    "                f.daysUntilCycling -= 1\n",
    "                f.myConceptionProbabilityList += [0]\n",
    "                f.switchToCycling() if f.daysUntilCycling <= 0 else 0\n",
    "\n",
    "            for f in [item for item in self.females if item.status == \"done\"]:\n",
    "                f.myConceptionProbabilityList += [0]\n",
    "\n",
    "        self.p = [m.reproductiveSuccess for m in self.males]\n",
    "\n",
    "        if self.ID == 0:\n",
    "            model.listOfRSCorrels += [\n",
    "                corrcoef([nMales - m.rank for m in self.males],\n",
    "                         [m.reproductiveSuccess for m in self.males])[1, 0]\n",
    "            ]\n",
    "            model.listOfQualityRSCorrels += [\n",
    "                corrcoef([m.quality for m in self.males],\n",
    "                         [m.reproductiveSuccess for m in self.males])[1, 0]\n",
    "            ]\n",
    "\n",
    "    def sortQuality(self, m):\n",
    "        return m.quality\n",
    "\n",
    "    def sortRank(self, m):\n",
    "        return m.rank\n",
    "\n",
    "    def sortConceptionProbability(self, f):\n",
    "        return f.conceptionProbability + uniform(0.0001)\n",
    "\n",
    "    def sortStatus(self, f):\n",
    "        return f.status\n",
    "\n",
    "    def setRanks(self):\n",
    "\n",
    "        # empty list for each males' number of entries\n",
    "        self.maleRankEntries = []\n",
    "\n",
    "        # for each male, his entries correspond to his quality * 100 if his competitiveEffortis above threshold,\n",
    "        # otherwise, his number of entries is random\n",
    "        # also, add his number of entries to the list of entries\n",
    "        for m in self.males:\n",
    "            #self.entries = m.quality if uniform(0,1) < m.competitiveEffort else uniform(0,1) #abs(normal(0.0,0.334))\n",
    "            self.entries = (m.quality * m.competitiveEffort)**4\n",
    "            self.maleRankEntries += [self.entries + 0.0000000001]\n",
    "\n",
    "        # scale males' number of entries so that proportions are the same but they sum to 1 (necessary for next step)\n",
    "        self.maleRankEntries = [\n",
    "            e / sum(self.maleRankEntries) for e in self.maleRankEntries\n",
    "        ]\n",
    "\n",
    "        # select males one by on based on their proportional size in entries list (p parameter takes list of weights)\n",
    "        self.males = choice(self.males,\n",
    "                            p=self.maleRankEntries,\n",
    "                            size=nMales,\n",
    "                            replace=False)\n",
    "\n",
    "        for i, m in enumerate(self.males):\n",
    "            m.rank = i\n",
    "            m.cost = m.competitiveEffort\n",
    "\n",
    "    def makeMatingPairs(self):\n",
    "\n",
    "        nPairs = len(\n",
    "            [item for item in self.females if item.status == \"cycling\"])\n",
    "        for m, f in zip(self.males[:nPairs], self.females[:nPairs]):\n",
    "\n",
    "            m.reproductiveSuccess += f.conceptionProbability  # * m.quality**(1/10)\n",
    "            f.reproductiveSuccess += f.conceptionProbability  # * m.quality**(1/10)\n",
    "            m.matings += 1\n",
    "\n",
    "            addToDataFile(self.ID, m, f)\n",
    "\n",
    "    def setupNextGen(self):\n",
    "\n",
    "        self.nextGenMotherGenes = []\n",
    "        motherProbabilities = [f.reproductiveSuccess for f in self.females]\n",
    "        # lack of ability to chose becomes a cost as competitiveEffort goes down\n",
    "\n",
    "        self.nextGenFatherGenes = []\n",
    "        fatherProbabilities = np.array([\n",
    "            m.reproductiveSuccess - m.cost for m in self.males\n",
    "        ])  # does male quality matter?\n",
    "        #fatherProbabilities[fatherProbabilities < 0] = 0\n",
    "\n",
    "        parentsStartingPoint = model.generation * model.nAgents\n",
    "\n",
    "        moms = [\n",
    "            rdchoices(model.potentialMoms[parentsStartingPoint +\n",
    "                                          i:parentsStartingPoint + i + 2],\n",
    "                      weights=[\n",
    "                          motherProbabilities[p]\n",
    "                          for p in model.potentialMoms[parentsStartingPoint +\n",
    "                                                       i:parentsStartingPoint +\n",
    "                                                       i + 2]\n",
    "                      ],\n",
    "                      k=1)[0] for i in np.arange(0, (model.nAgents * 2), 2)\n",
    "        ]\n",
    "        dads = [\n",
    "            rdchoices(model.potentialDads[parentsStartingPoint +\n",
    "                                          i:parentsStartingPoint + i + 2],\n",
    "                      weights=[\n",
    "                          fatherProbabilities[p]\n",
    "                          for p in model.potentialDads[parentsStartingPoint +\n",
    "                                                       i:parentsStartingPoint +\n",
    "                                                       i + 2]\n",
    "                      ],\n",
    "                      k=1)[0] for i in np.arange(0, (model.nAgents * 2), 2)\n",
    "        ]\n",
    "\n",
    "        self.nextGenMotherGenes = [self.females[m].genes.copy() for m in moms]\n",
    "        self.nextGenFatherGenes = [self.males[d].genes.copy() for d in dads]\n",
    "\n",
    "\n",
    "#     def recombination(self):\n",
    "\n",
    "#         self.offspringGenes = []\n",
    "#         recombinationPoints = choice(range(model.numberGenes), model.nAgents)\n",
    "#         splitTypes = randint(0,2, model.nAgents)\n",
    "#         i = 0\n",
    "#         while i < model.nAgents:\n",
    "#             recombinationPoint = recombinationPoints[i]\n",
    "#             if splitTypes[i] == 1:\n",
    "#                 self.offspringGenes.append([m for m in self.nextGenMotherGenes[i][:recombinationPoint]] +\n",
    "#                                            [f for f in self.nextGenFatherGenes[i][recombinationPoint:]])\n",
    "#             else:\n",
    "#                 self.offspringGenes.append([f for f in self.nextGenFatherGenes[i][:recombinationPoint]] +\n",
    "#                                            [m for m in self.nextGenMotherGenes[i][recombinationPoint:]])\n",
    "#             i += 1\n",
    "\n",
    "    def recombination(self):\n",
    "\n",
    "        self.offspringGenes = []\n",
    "        splitTypes = randint(0, 2, model.nAgents)\n",
    "        i = 0\n",
    "        while i < model.nAgents:\n",
    "            if splitTypes[i] == 1:\n",
    "                self.offspringGenes.append(self.nextGenMotherGenes[i])\n",
    "            else:\n",
    "                self.offspringGenes.append(self.nextGenFatherGenes[i])\n",
    "            i += 1\n",
    "\n",
    "    def mutation(self):\n",
    "\n",
    "        genesInGroup = model.nAgents\n",
    "        mutations = model.mutations[model.generation - 1]\n",
    "\n",
    "        offspringsMutating = choice(range(model.nAgents),\n",
    "                                    mutations,\n",
    "                                    replace=False)\n",
    "\n",
    "        genesMutating = choice([0, 1, 2, 3], mutations)\n",
    "        pertubations = uniform(-0.04, 0.04, mutations)\n",
    "\n",
    "        newGenes = nparray([\n",
    "            self.offspringGenes[offspringsMutating[m]][genesMutating[m]] +\n",
    "            pertubations[m] for m in range(mutations)\n",
    "        ])\n",
    "\n",
    "        newGenes[newGenes < 0] = 0\n",
    "\n",
    "        for m in range(mutations):\n",
    "            self.offspringGenes[offspringsMutating[m]][\n",
    "                genesMutating[m]] = newGenes[m]\n",
    "\n",
    "    def scaleQuality(self):\n",
    "\n",
    "        for gene in [0, 1]:\n",
    "            qualityDict = {\n",
    "                g: self.offspringGenes[g][gene] + uniform(-0.00001, 0.00001)\n",
    "                for g in range(model.nAgents)\n",
    "            }\n",
    "\n",
    "            qualityList = [v for k, v in qualityDict.items()]\n",
    "            #qualityList = (qualityList - np.min(qualityList))/np.ptp(qualityList)\n",
    "            qualityList = [q / max(qualityList) for q in qualityList]\n",
    "\n",
    "            for g in range(model.nAgents):\n",
    "                self.offspringGenes[g][gene] = qualityList[g]\n",
    "\n",
    "    def reset(self):\n",
    "\n",
    "        self.modelDays = 0\n",
    "        self.males, self.females = [], []\n",
    "        self.males = [\n",
    "            male(m,\n",
    "                 self.ID,\n",
    "                 model.generation,\n",
    "                 genes=self.offspringGenes[m + nFemales])\n",
    "            for m in range(nMales)\n",
    "        ]\n",
    "        self.females = [\n",
    "            female(f, self.ID, model.generation, genes=self.offspringGenes[f])\n",
    "            for f in range(nFemales)\n",
    "        ]\n",
    "        self.setRanks()\n",
    "        self.actualRankQualityCorrelation = corrcoef(\n",
    "            [nMales - m.rank for m in self.males],\n",
    "            [m.quality for m in self.males])[1, 0]\n",
    "\n",
    "cycleLength = 28\n",
    "ovulation = 16\n",
    "pre = ovulation - 6\n",
    "post = cycleLength - pre - 6\n",
    "conceptionProbabilityList = [0] * pre + [\n",
    "    .05784435, .16082819, .19820558, .25408223, .24362408, .10373275\n",
    "] + [0] * post"
   ]
  },
  {
   "cell_type": "markdown",
   "metadata": {
    "heading_collapsed": true
   },
   "source": [
    "## Population"
   ]
  },
  {
   "cell_type": "code",
   "execution_count": 5,
   "metadata": {
    "hidden": true
   },
   "outputs": [],
   "source": [
    "class population:\n",
    "    \n",
    "    def __init__(self):\n",
    "        \n",
    "        self.listOfQualityCorrels = []\n",
    "        self.listOfRSCorrels = []\n",
    "        self.listOfQualityRSCorrels = []\n",
    "        self.generation = 1\n",
    "        self.numberGenes = 2\n",
    "        self.rangeFemales = range(nFemales)\n",
    "        self.rangeMales = range(nMales)\n",
    "        self.nAgents = nMales + nFemales\n",
    "        self.totalAgents = nGroups * self.nAgents\n",
    "        self.rangeGroups = range(nGroups)\n",
    "        self.mutations = [round(uniform(0,self.nAgents * mutationRate * 2)) for i in range(nGenerations * nGroups)]\n",
    "        self.potentialMoms = rdchoices(range(nFemales), k = 3 * self.nAgents * nGenerations * nGroups)\n",
    "        self.potentialDads = rdchoices(range(nMales), k = 3 * self.nAgents * nGenerations * nGroups)\n",
    "        self.groups = [group(g,self.generation) for g in self.rangeGroups]\n",
    "        self.modelID = str(time.time())[3:9]        \n",
    "    \n",
    "    def evolve(self):\n",
    "\n",
    "        %matplotlib qt\n",
    "\n",
    "        model.matingStats = []\n",
    "        \n",
    "        for gen in tqdm(range(nGenerations)):\n",
    "\n",
    "            self.listOfQualityCorrels += [corrcoef([nMales-m.rank for m in self.groups[0].males],[m.quality for m in self.groups[0].males])[1,0]]\n",
    "\n",
    "            for group in self.groups:\n",
    "                group.go()\n",
    "            \n",
    "                rankList = [nMales-m.rank for m in self.groups[0].males] if self.generation == nGenerations else 0\n",
    "                \n",
    "                self.geneticAlgorithm(group)\n",
    "                \n",
    "            \n",
    "            self.plotRankQuality() if uniform(0,1) > 0.8 and realTimePlots else 0\n",
    "        \n",
    "        c=['Model ID','Seasonality','Number of Males', 'Number of Females','Mutation Rate',\n",
    "           'Migration Rate', 'Heritability of Quality','Generation','ModelDay','Group','Male Unique ID',\n",
    "           'Rank','QualityGene1','QualityGene2','CompeteGene1','CompeteGene2','Rank-Quality Correlation',\n",
    "           'Male Reproductive Success','Female Unique ID','Female Conception Probability',\n",
    "           'Female Reproductive Success','Male Number Matings']\n",
    "\n",
    "        model.matingStats=pd.DataFrame(model.matingStats,columns=c)\n",
    "\n",
    "        model.matingStats.to_csv('matingData.csv', mode='a', header=False, index=False)    \n",
    "                \n",
    "        %matplotlib inline\n",
    "        plt.plot(rankList, self.groups[0].p)        \n",
    "        \n",
    "    def geneticAlgorithm(self,group=group):\n",
    "        \n",
    "        group.setupNextGen()\n",
    "        \n",
    "        group.recombination()\n",
    "        \n",
    "        group.mutation() if model.mutations[model.generation - 1] > 0 else 0\n",
    "        \n",
    "        group.scaleQuality()\n",
    "        \n",
    "        self.generation += 1\n",
    "        \n",
    "        group.reset()\n",
    "                \n",
    "        self.migration() if dispersal else 0\n",
    "        \n",
    "    def migration(self):\n",
    "                \n",
    "        migrations = round(uniform(self.totalAgents * migrationRate * 2))\n",
    "        groupsLeavingFrom = choice([g for g in self.groups], migrations)\n",
    "        agentsLeaving = choice(range(nMales), migrations)\n",
    "        \n",
    "        for m in range(migrations):\n",
    "            \n",
    "            groupLeavingFrom = groupsLeavingFrom[m]\n",
    "            \n",
    "            if rd.uniform(0,1) > maleDispersalBias:\n",
    "                agentLeaving = groupLeavingFrom.males[agentsLeaving[m]]\n",
    "                agentComing = rd.choice(rd.choice([g for g in self.groups if g != groupLeavingFrom]).males)\n",
    "            else:\n",
    "                agentLeaving = groupLeavingFrom.females[agentsLeaving[m]]\n",
    "                agentComing = rd.choice(rd.choice([g for g in self.groups if g != groupLeavingFrom]).females)\n",
    "            \n",
    "            tempGenes, tempCost = agentLeaving.genes, agentLeaving.cost\n",
    "            agentLeaving.genes, agentLeaving.cost = agentComing.genes, agentComing.cost\n",
    "            agentComing.genes, agentComing.cost = tempGenes, tempCost\n",
    "\n",
    "    def plotRankQuality(self):\n",
    "        \n",
    "        \n",
    "        plt.clf()\n",
    "        plt.plot([np.mean([m.genes[0],m.genes[1]]) for m in self.groups[0].males], [nMales-m.rank for m in self.groups[0].males], 'bo')\n",
    "        plt.text(0.1, nMales*0.8,\n",
    "             str(round(corrcoef([nMales-m.rank\n",
    "                                  for m\n",
    "                                  in self.groups[0].males],[np.mean([m.genes[0],m.genes[1]])\n",
    "                                                            for m\n",
    "                                                            in self.groups[0].males])[1,0],2)))\n",
    "        plt.xlim([0,1.2])\n",
    "        plt.ylim([0,nMales*1.2])\n",
    "        plt.pause(0.00001)\n",
    "        plt.show()\n",
    "\n",
    "        "
   ]
  },
  {
   "cell_type": "markdown",
   "metadata": {
    "hidden": true
   },
   "source": [
    "Create .csv file containing data"
   ]
  },
  {
   "cell_type": "code",
   "execution_count": 6,
   "metadata": {
    "hidden": true
   },
   "outputs": [],
   "source": [
    "def newDataFile():\n",
    "\n",
    "    c = [\n",
    "        'Model ID', 'Seasonality', 'Number of Males', 'Number of Females',\n",
    "        'Mutation Rate', 'Migration Rate', 'Heritability of Quality',\n",
    "        'Generation', 'ModelDay', 'Group', 'Male Unique ID', 'Rank',\n",
    "        'QualityGene1', 'QualityGene2', 'CompeteGene1', 'CompeteGene2',\n",
    "        'Rank-Quality Correlation', 'Male Reproductive Success',\n",
    "        'Female Unique ID', 'Female Conception Probability',\n",
    "        'Female Reproductive Success', 'Male Number Matings'\n",
    "    ]\n",
    "\n",
    "    matingStats = pd.DataFrame(columns=c)\n",
    "\n",
    "    matingStats.to_csv('matingData.csv', index=False)\n",
    "\n",
    "\n",
    "def initialData(gr, m):\n",
    "    model.matingStats.append([\n",
    "        model.modelID, seasonality, nMales, nFemales, mutationRate,\n",
    "        migrationRate, qualityHeritability, model.generation,\n",
    "        model.groups[gr].modelDays, model.groups[gr].ID, m.uniqueID, m.rank,\n",
    "        m.genes[0], m.genes[1], m.genes[2], m.genes[3],\n",
    "        model.groups[gr].actualRankQualityCorrelation, 0, 'NA', 0, 0, 0\n",
    "    ])\n",
    "\n",
    "\n",
    "def addToDataFile(gr, m, f):\n",
    "    model.matingStats.append([\n",
    "        model.modelID, seasonality, nMales, nFemales, mutationRate,\n",
    "        migrationRate, qualityHeritability, model.generation,\n",
    "        model.groups[gr].modelDays, model.groups[gr].ID, m.uniqueID, m.rank,\n",
    "        m.genes[0], m.genes[1], m.genes[2], m.genes[3],\n",
    "        model.groups[gr].actualRankQualityCorrelation, m.reproductiveSuccess,\n",
    "        f.uniqueID, f.conceptionProbability, f.reproductiveSuccess, m.matings\n",
    "    ])"
   ]
  },
  {
   "cell_type": "code",
   "execution_count": 90,
   "metadata": {
    "hidden": true
   },
   "outputs": [],
   "source": [
    "model.groups[0].scaleQuality()\n",
    "\n"
   ]
  },
  {
   "cell_type": "markdown",
   "metadata": {
    "heading_collapsed": true
   },
   "source": [
    "# Model tests"
   ]
  },
  {
   "cell_type": "code",
   "execution_count": 8,
   "metadata": {
    "hidden": true,
    "scrolled": true
   },
   "outputs": [
    {
     "name": "stderr",
     "output_type": "stream",
     "text": [
      "100%|██████████| 5000/5000 [05:58<00:00, 13.95it/s] \n",
      "100%|██████████| 5000/5000 [04:39<00:00, 17.86it/s] \n",
      "100%|██████████| 5000/5000 [03:34<00:00, 23.33it/s] \n"
     ]
    },
    {
     "data": {
      "image/png": "[encoded data removed]",
      "text/plain": [
       "<Figure size 432x288 with 1 Axes>"
      ]
     },
     "metadata": {
      "needs_background": "light"
     },
     "output_type": "display_data"
    }
   ],
   "source": [
    "nGenerations = 5000\n",
    "mutationRate = 0.01\n",
    "\n",
    "dispersal = True\n",
    "migrationRate = 0.01\n",
    "maleDispersalBias = 0.5\n",
    "\n",
    "qualityHeritability = 0.5\n",
    "startingCorrel = 0.5\n",
    "\n",
    "nFemales = 20\n",
    "nMales = 20\n",
    "nGroups = 5\n",
    "\n",
    "seasonality = 0.0\n",
    "rangeOfNonCyclingDays = 365 - (365 * seasonality)\n",
    "realTimePlots = False\n",
    "\n",
    "meanDaysToConception = 60\n",
    "sdDaysToConception = 0# * (1.0 - seasonality)\n",
    "\n",
    "newDataFile()\n",
    "seasonality = 0.2\n",
    "rangeOfNonCyclingDays = 365 - (365 * seasonality)\n",
    "model = population()\n",
    "model.evolve()\n",
    "\n",
    "seasonality = 0.5\n",
    "rangeOfNonCyclingDays = 365 - (365 * seasonality)\n",
    "model = population()\n",
    "model.evolve()\n",
    "\n",
    "seasonality = 0.8\n",
    "rangeOfNonCyclingDays = 365 - (365 * seasonality)\n",
    "model = population()\n",
    "model.evolve()\n",
    "\n",
    "# palette = np.flip(sns.color_palette(\"viridis\",100))\n",
    "\n",
    "# fig,ax = plt.subplots(figsize=[12,12])\n",
    "# plt.title(\"Correlations Between Rank and Quality Over Time\", size = 20)\n",
    "# plt.xlabel(\"Generation\", size = 17)\n",
    "# plt.ylabel(\"Correlation\", size = 17)\n",
    "\n",
    "\n",
    "# for i,s in enumerate([0.0,0.2,0.4,0.6,0.8,1.0]):\n",
    "#     seasonality = s\n",
    "#     meanDaysToConception = 60\n",
    "#     sdDaysToConception = 50 * (1.0 - seasonality)\n",
    "    \n",
    "#     rangeOfNonCyclingDays = 365 - (365 * seasonality)\n",
    "\n",
    "#     model = population()\n",
    "#     model.evolve()\n",
    "\n",
    "#     listOfQualityCorrels_split = np.array_split(model.listOfQualityCorrels,10)\n",
    "#     ax.plot([np.nanmean(j) for j in listOfQualityCorrels_split],color=palette[i*12], linewidth=3,label=s)\n",
    "#     ax.legend(loc='best')\n",
    "#     plt.close()\n",
    "    "
   ]
  },
  {
   "cell_type": "code",
   "execution_count": null,
   "metadata": {
    "hidden": true,
    "scrolled": false
   },
   "outputs": [],
   "source": [
    "cols = [\"Quality\", \"GeneQual\",\"Correl\",\"Rank\",\"RS\",\"Matings\",\"Cost\", \"RS - Cost\",\n",
    "        \"QualGene1\",\"QualGene2\",\"Noise\",\"CorrGene1\",\"CorrGene2\"]\n",
    "IDs = [m.ID for m in model.groups[0].males]\n",
    "\n",
    "df = pd.DataFrame(\n",
    "    [\n",
    "        [m.quality, (m.genes[0]+m.genes[1])/2,m.competitiveEffort, m.rank, m.reproductiveSuccess,\n",
    "         m.matings/model.groups[0].modelDays,m.cost,m.reproductiveSuccess-m.cost, m.genes[0],m.genes[1],m.noise,m.genes[2],m.genes[3]\n",
    "        ] for i,m in enumerate(model.groups[0].males)\n",
    "    ], columns=cols,index=IDs).round(3).sort_values(by=\"Rank\", ascending=True)\n",
    "\n",
    "pd.set_option('display.max_rows', df.shape[0]+1)\n",
    "df"
   ]
  },
  {
   "cell_type": "markdown",
   "metadata": {
    "heading_collapsed": true
   },
   "source": [
    "# Exploratory data anlysis"
   ]
  },
  {
   "cell_type": "code",
   "execution_count": 56,
   "metadata": {
    "hidden": true
   },
   "outputs": [],
   "source": [
    "def synchronyCharts(group):\n",
    "    \n",
    "    plt.figure(figsize=(20, 9))\n",
    "    allDays = plt.scatter([range(group.modelDays)] * nFemales, [[f.myConceptionProbabilityList[i] + f.ID\n",
    "                                        for i in range(group.modelDays)]\n",
    "                                       for f in group.females], s=8)\n",
    "\n",
    "    totalProb = [0] * group.modelDays\n",
    "\n",
    "    for i in range(group.modelDays):\n",
    "        totalProb[i] =  sum([f.myConceptionProbabilityList[i] for f in group.females]) - 2\n",
    "    \n",
    "    textList = [0] * group.modelDays\n",
    "    for i in range(group.modelDays):\n",
    "        textList[i] = sum([f.myConceptionProbabilityList[i] > 0 for f in group.females])\n",
    "        \n",
    "    linesList = [0] * group.modelDays\n",
    "    for i in range(group.modelDays):\n",
    "        #if sum([f.myConceptionProbabilityList[i] > 0 for f in g.females]) > 1:\n",
    "        linesList[i] = sum(\n",
    "            [f.myConceptionProbabilityList[i]\n",
    "             for f in group.females]) if sum([f.myConceptionProbabilityList[i] > 0\n",
    "                                                                           for f in group.females]) > 1 else 0\n",
    "    allDaysTotal = plt.scatter([range(group.modelDays)], totalProb)\n",
    "    \n",
    "    scalingLinesList = nFemales/max(textList)\n",
    "    linesList = (linesList - np.min(linesList))/np.ptp(linesList)\n",
    "    linesList = [l/scalingLinesList for l in linesList]\n",
    "    \n",
    "#     plt.vlines(x=range(group.modelDays), ymin=0, ymax=nFemales+1,\n",
    "#                colors=([(0.99,0,0,l) for l in linesList]), lw=[(l>0)*3 for l in linesList])\n",
    "#     plt.vlines(x=range(group.modelDays), ymin=0, ymax=nFemales+1,\n",
    "#                colors=(0.0,0,0.99,0.99), lw=[(l==0) for l in linesList])\n",
    "    \n",
    "    j = 0\n",
    "    lastNum,up = 0,False\n",
    "    for i, num in enumerate(textList):\n",
    "        if lastNum > 1 and num > 1 and up==False:\n",
    "            j,up = nFemales/10,True\n",
    "        else:\n",
    "            j,up = 0,False\n",
    "        plt.annotate(num, (i, nFemales + 1.5 + j),size=16) if num > 1 else 0\n",
    "        lastNum = num\n",
    "\n",
    "    plt.ylim([-3,nFemales + 8])\n",
    "    \n",
    "    figure(figsize=[20,5])\n",
    "\n",
    "    dailyCyclingFemales = [day\n",
    "                           for days in [[i for i in range(f.nonCyclingLength,f.nonCyclingLength+f.cyclingLength)]\n",
    "                                        for f in group.females] for day in days]\n",
    "\n",
    "    numOfCyclingFemalesByDay = [dailyCyclingFemales.count(num) for num in range(group.modelDays)]\n",
    "\n",
    "    plt.bar(range(group.modelDays),numOfCyclingFemalesByDay)\n",
    "    \n",
    "    plt.ylim([0,nFemales*1.1])\n",
    "    \n",
    "    groupConceptionProbabilities = []\n",
    "    lenFertilePerDay = group.modelDays\n",
    "    \n",
    "    for d in range(group.modelDays):\n",
    "        groupConceptionProbabilities += [sum([0 if f.myConceptionProbabilityList[d] == False else 1\n",
    "                                              for f in group.females])]\n",
    "\n",
    "    fertilePerDay = [groupConceptionProbabilities.count(i) / group.modelDays for i in range(nFemales + 1)]\n",
    "\n",
    "    for day in np.flip(range(len(fertilePerDay))):\n",
    "        if fertilePerDay[day] ==  0:\n",
    "            fertilePerDay.pop(day)\n",
    "        else:\n",
    "            break\n",
    "\n",
    "    t = 0\n",
    "    for i in range(len(fertilePerDay)):\n",
    "        t += (groupConceptionProbabilities.count(i) / group.modelDays)\n",
    "        fertilePerDay += [t]\n",
    "\n",
    "\n",
    "    d = pd.DataFrame([[round(f*cycleLength,1) for f in fertilePerDay],\n",
    "                      [f for f in range(round(len(fertilePerDay)/2))]*2,\n",
    "                      [\"day\" for f in range(round(len(fertilePerDay)/2))] +\n",
    "                      [\"cumulative\" for f in range(round(len(fertilePerDay)/2))]],\n",
    "                     index=[\"numberFertile\", \"day\", \"category\"]).T\n",
    "\n",
    "    plt.figure(figsize=(18, 5))\n",
    "    fertilePerDayPlot = sns.barplot(\"day\", \"numberFertile\", data = d, hue = 'category')\n",
    "\n",
    "    plt.bar_label(fertilePerDayPlot.containers[0], size = 13)\n",
    "    plt.bar_label(fertilePerDayPlot.containers[1], size = 13)\n",
    "    xlabel = plt.xlabel('Number of females in POP', size=25)\n",
    "    ylabel = plt.ylabel('Average number of days per cycle', size=25)\n",
    "    ylim = plt.ylim([0,110])\n",
    "    "
   ]
  },
  {
   "cell_type": "code",
   "execution_count": 58,
   "metadata": {
    "hidden": true
   },
   "outputs": [],
   "source": [
    "\n",
    "nMales = 20\n",
    "nFemales = 20\n",
    "\n",
    "meanDaysToConception = 60\n",
    "sdDaysToConception = 50 * (1.0 - seasonality)\n",
    "\n",
    "cycleLength = 28\n",
    "\n",
    "ovulation = 16\n",
    "pre = ovulation - 6\n",
    "post = cycleLength - pre - 6\n",
    "conceptionProbabilityList = [0] * pre + [.05784435,.16082819,.19820558,.25408223,.24362408,.10373275] + [0] * post\n",
    "\n"
   ]
  },
  {
   "cell_type": "code",
   "execution_count": 55,
   "metadata": {
    "hidden": true,
    "scrolled": false
   },
   "outputs": [
    {
     "ename": "NameError",
     "evalue": "name 'synchronyCharts' is not defined",
     "output_type": "error",
     "traceback": [
      "\u001b[0;31m---------------------------------------------------------------------------\u001b[0m",
      "\u001b[0;31mNameError\u001b[0m                                 Traceback (most recent call last)",
      "\u001b[0;32m<ipython-input-55-8e354632adea>\u001b[0m in \u001b[0;36m<module>\u001b[0;34m\u001b[0m\n\u001b[1;32m      9\u001b[0m \u001b[0mg\u001b[0m\u001b[0;34m.\u001b[0m\u001b[0mgo\u001b[0m\u001b[0;34m(\u001b[0m\u001b[0;34m)\u001b[0m\u001b[0;34m\u001b[0m\u001b[0;34m\u001b[0m\u001b[0m\n\u001b[1;32m     10\u001b[0m \u001b[0;34m\u001b[0m\u001b[0m\n\u001b[0;32m---> 11\u001b[0;31m \u001b[0msynchronyCharts\u001b[0m\u001b[0;34m(\u001b[0m\u001b[0mg\u001b[0m\u001b[0;34m)\u001b[0m\u001b[0;34m\u001b[0m\u001b[0;34m\u001b[0m\u001b[0m\n\u001b[0m\u001b[1;32m     12\u001b[0m \u001b[0;34m\u001b[0m\u001b[0m\n\u001b[1;32m     13\u001b[0m \u001b[0mprint\u001b[0m\u001b[0;34m(\u001b[0m\u001b[0mg\u001b[0m\u001b[0;34m.\u001b[0m\u001b[0mmodelDays\u001b[0m\u001b[0;34m)\u001b[0m\u001b[0;34m\u001b[0m\u001b[0;34m\u001b[0m\u001b[0m\n",
      "\u001b[0;31mNameError\u001b[0m: name 'synchronyCharts' is not defined"
     ]
    }
   ],
   "source": [
    "nMales = 10\n",
    "nFemales = 10\n",
    "\n",
    "seasonality = 0.9\n",
    "sdDaysToConception = 50 * (1.0 - seasonality)\n",
    "rangeOfNonCyclingDays = 365 - (365 * seasonality)\n",
    "\n",
    "g = group(0)\n",
    "g.go()\n",
    "\n",
    "synchronyCharts(g)\n",
    "\n",
    "print(g.modelDays)\n",
    "\n",
    "nFemales = 20\n",
    "nMales = 20\n",
    "\n",
    "seasonality = 0.7\n",
    "sdDaysToConception = 0 # 50 * (1.0 - seasonality)\n",
    "rangeOfNonCyclingDays = 365 - (365 * seasonality)\n",
    "\n",
    "g = group(0)\n",
    "# g.females[0].daysUntilCycling,g.females[1].daysUntilCycling,g.females[2].daysUntilCycling = 17,144,192\n",
    "# g.females[0].nonCyclingLength,g.females[1].nonCyclingLength,g.females[2].nonCyclingLength = 17,144,192\n",
    "g.go()\n",
    "\n",
    "synchronyCharts(g)\n",
    "\n",
    "print(g.modelDays)"
   ]
  },
  {
   "cell_type": "code",
   "execution_count": 59,
   "metadata": {
    "hidden": true,
    "scrolled": true
   },
   "outputs": [
    {
     "data": {
      "image/png": "[encoded data removed]",
      "text/plain": [
       "<Figure size 1440x648 with 1 Axes>"
      ]
     },
     "metadata": {
      "needs_background": "light"
     },
     "output_type": "display_data"
    },
    {
     "data": {
      "image/png": "[encoded data removed]",
      "text/plain": [
       "<Figure size 1440x360 with 1 Axes>"
      ]
     },
     "metadata": {
      "needs_background": "light"
     },
     "output_type": "display_data"
    },
    {
     "data": {
      "image/png": "[encoded data removed]",
      "text/plain": [
       "<Figure size 1296x360 with 1 Axes>"
      ]
     },
     "metadata": {
      "needs_background": "light"
     },
     "output_type": "display_data"
    }
   ],
   "source": [
    "synchronyCharts(model.groups[0])"
   ]
  },
  {
   "cell_type": "code",
   "execution_count": null,
   "metadata": {
    "hidden": true
   },
   "outputs": [],
   "source": [
    "modelData = pd.DataFrame([[nMales, nFemales, seasonality, g.modelDays]],\n",
    "                         columns=['# Males','# Females','Seasonality','Model Days'],\n",
    "                         index=['Model Data'])\n",
    "\n",
    "dataM =pd.DataFrame([[m.rank,m.matings,m.reproductiveSuccess,m.cost,m.reproductiveSuccess-m.cost] for m in g.males],\n",
    "                         columns=['Rank','# of mates','RS', 'Cost', 'RS - Cost'],\n",
    "                         index=[\"Male {}\".format(i) for i in range(nMales)])\n",
    "\n",
    "dataF =pd.DataFrame([[f.reproductiveSuccess, f.nonCyclingLength, f.cyclingLength] for f in g.females],\n",
    "                         columns=['RS','Days Before Cycling','Days Until Conception'],\n",
    "                         index=[\"Female {}\".format(i) for i in range(nFemales)])\n",
    "display(modelData)\n",
    "display(dataM)\n",
    "display(dataF)\n",
    "plot([m.reproductiveSuccess-m.cost for m in g.males])"
   ]
  },
  {
   "cell_type": "code",
   "execution_count": null,
   "metadata": {
    "hidden": true
   },
   "outputs": [],
   "source": []
  }
 ],
 "metadata": {
  "kernelspec": {
   "display_name": "Python 3",
   "language": "python",
   "name": "python3"
  },
  "language_info": {
   "codemirror_mode": {
    "name": "ipython",
    "version": 3
   },
   "file_extension": ".py",
   "mimetype": "text/x-python",
   "name": "python",
   "nbconvert_exporter": "python",
   "pygments_lexer": "ipython3",
   "version": "3.7.4"
  },
  "toc": {
   "base_numbering": 1,
   "nav_menu": {},
   "number_sections": true,
   "sideBar": true,
   "skip_h1_title": false,
   "title_cell": "Table of Contents",
   "title_sidebar": "Contents",
   "toc_cell": false,
   "toc_position": {
    "height": "calc(100% - 180px)",
    "left": "10px",
    "top": "150px",
    "width": "227px"
   },
   "toc_section_display": true,
   "toc_window_display": true
  },
  "varInspector": {
   "cols": {
    "lenName": 16,
    "lenType": 16,
    "lenVar": 40
   },
   "kernels_config": {
    "python": {
     "delete_cmd_postfix": "",
     "delete_cmd_prefix": "del ",
     "library": "var_list.py",
     "varRefreshCmd": "print(var_dic_list())"
    },
    "r": {
     "delete_cmd_postfix": ") ",
     "delete_cmd_prefix": "rm(",
     "library": "var_list.r",
     "varRefreshCmd": "cat(var_dic_list()) "
    }
   },
   "position": {
    "height": "460px",
    "left": "594px",
    "right": "20px",
    "top": "95px",
    "width": "421px"
   },
   "types_to_exclude": [
    "module",
    "function",
    "builtin_function_or_method",
    "instance",
    "_Feature"
   ],
   "window_display": false
  }
 },
 "nbformat": 4,
 "nbformat_minor": 2
}
