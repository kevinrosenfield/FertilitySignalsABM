{
 "cells": [
  {
   "cell_type": "code",
   "execution_count": 158,
   "metadata": {},
   "outputs": [],
   "source": [
    "#%%writefile pymate.py\n",
    "import random\n",
    "import numpy as np\n",
    "import pandas as pd\n",
    "import matplotlib.pyplot as plt\n",
    "import seaborn as sns\n",
    "\n",
    "\n",
    "class male:\n",
    "\n",
    "    def __init__(self, m, g, gene=0.0):\n",
    "\n",
    "        self.id = m\n",
    "        self.group_id = g\n",
    "        self.quality = np.random.uniform(0.1, 0.9)\n",
    "        self.competitive_effort = gene\n",
    "        self.gene = gene\n",
    "        self.rank = \"N/A\"\n",
    "\n",
    "\n",
    "class female:\n",
    "\n",
    "    def __init__(self,\n",
    "                 f,\n",
    "                 max_non_cycling_days,\n",
    "                 conception_probability_list,\n",
    "                 mean_days_to_conception,\n",
    "                 sd_days_to_conception,\n",
    "                 g,\n",
    "                 gene=0.0):\n",
    "\n",
    "        self.id = f\n",
    "        self.group_id = g\n",
    "        self.days_until_cycling = random.randint(0, max_non_cycling_days + 1)\n",
    "        self.conception_probability_list = conception_probability_list\n",
    "        self.conception_probability = \"N/A\"\n",
    "        self.status = \"not yet cycling\"\n",
    "        self.cycle_day = \"N/A\"\n",
    "        self.gene = gene\n",
    "\n",
    "        self.days_until_conception = abs(\n",
    "            round(\n",
    "                np.random.normal(mean_days_to_conception,\n",
    "                                 sd_days_to_conception)))\n",
    "\n",
    "    def switch_to_cycling(self, not_yet_cycling, females_cycling):\n",
    "\n",
    "        females_cycling.append(self)\n",
    "        not_yet_cycling.remove(self)\n",
    "        self.status = \"cycling\"\n",
    "        self.days_until_cycling = \"N/A\"\n",
    "\n",
    "        self.cycle_day = 0\n",
    "        self.conception_probability = self.conception_probability_list[\n",
    "            0]  # starts day 0\n",
    "\n",
    "    def switch_to_finished_cycling(self, females_cycling, finished_cycling):\n",
    "\n",
    "        finished_cycling.append(self)\n",
    "        females_cycling.remove(self)\n",
    "        self.status = \"finished cycling\"\n",
    "        self.cycle_day = \"N/A\"\n",
    "\n",
    "        self.conception_probability = \"N/A\"\n",
    "\n",
    "\n",
    "class group:\n",
    "\n",
    "    # when a 'group' object is initialized, 'male' and 'female' objects are automatically instantiated in lists\n",
    "    # ('males' and 'females') contained in the 'group' object\n",
    "    # the male dominance hierarchy is set when the 'setRanks' method runs during 'group' initialization\n",
    "\n",
    "    def __init__(self, g, max_non_cycling_days, conception_probability_list,\n",
    "                 mean_days_to_conception, sd_days_to_conception):\n",
    "\n",
    "        self.id = g\n",
    "        self.females_not_yet_cycling = [\n",
    "            female(f,\n",
    "                   max_non_cycling_days,\n",
    "                   conception_probability_list,\n",
    "                   mean_days_to_conception,\n",
    "                   sd_days_to_conception,\n",
    "                   g=self.id) for f in range(number_females)\n",
    "        ]\n",
    "\n",
    "        self.females_cycling = []\n",
    "        self.females_finished_cycling = []\n",
    "\n",
    "        self.males = [male(m, g=self.id) for m in range(number_males)]\n",
    "\n",
    "        self.mating_matrix = np.array(\n",
    "            [np.array([1e-40] * number_males) for f in range(number_females)])\n",
    "\n",
    "        self.list_of_rank_quality_corrlations = np.array([])\n",
    "\n",
    "    def set_ranks(self):\n",
    "        #         self.rank_entries = [(m.quality * m.competitive_effort) +\n",
    "        #                              random.uniform(0, 1 - m.competitive_effort)\n",
    "        #                              for m in self.males]\n",
    "\n",
    "        #         self.rank_entries_scaled = [\n",
    "        #             e / sum(self.rank_entries) for e in self.rank_entries\n",
    "        #         ] if sum(self.rank_entries) > 0 else [\n",
    "        #             1 / number_males for r in self.rank_entries\n",
    "        #         ]\n",
    "\n",
    "        self.rank_entries = [m.competitive_effort + 1e-50 for m in self.males]\n",
    "\n",
    "        self.rank_entries_scaled = [\n",
    "            e / sum(self.rank_entries) for e in self.rank_entries\n",
    "        ]\n",
    "\n",
    "        self.ranks = np.random.choice(range(number_males),\n",
    "                                      p=self.rank_entries_scaled,\n",
    "                                      size=number_males,\n",
    "                                      replace=False)\n",
    "\n",
    "        for i, m in enumerate(self.males):\n",
    "            m.id = np.where(self.ranks == i)[0][0]\n",
    "            m.rank = m.id\n",
    "\n",
    "        np.append(\n",
    "            self.list_of_rank_quality_corrlations,\n",
    "            np.corrcoef([m.id for m in self.males],\n",
    "                        [m.quality for m in self.males])[1, 0])\n",
    "\n",
    "    def start_cycling(self):\n",
    "\n",
    "        switch_to_cycling_list = []\n",
    "\n",
    "        for f in self.females_not_yet_cycling:\n",
    "            f.days_until_cycling -= 1\n",
    "            if f.days_until_cycling < 0:\n",
    "                switch_to_cycling_list.append(f)\n",
    "\n",
    "        [\n",
    "            f.switch_to_cycling(self.females_not_yet_cycling,\n",
    "                                self.females_cycling)\n",
    "            for f in switch_to_cycling_list\n",
    "        ]\n",
    "\n",
    "    def end_cycling(self, switch_to_finished_cycling_list):\n",
    "\n",
    "        [\n",
    "            f.switch_to_finished_cycling(self.females_cycling,\n",
    "                                         self.females_finished_cycling)\n",
    "            for f in switch_to_finished_cycling_list\n",
    "        ]\n",
    "\n",
    "    def make_mating_pairs(self):\n",
    "\n",
    "        for m, f in enumerate(np.random.permutation(\n",
    "                self.females_cycling)):  #randomize cycling females\n",
    "            self.mating_matrix[\n",
    "                f.id][m] += f.conception_probability * self.males[m].quality\n",
    "\n",
    "    def go_one_day(self):\n",
    "\n",
    "        self.start_cycling()\n",
    "\n",
    "        switch_to_finished_cycling_list = []\n",
    "        for f in self.females_cycling:\n",
    "            f.days_until_conception -= 1\n",
    "            if f.days_until_conception < 0:\n",
    "                switch_to_finished_cycling_list.append(f)\n",
    "            else:\n",
    "                f.cycle_day = f.cycle_day + 1 if f.cycle_day < cycle_length - 1 else 0\n",
    "                f.conception_probability = f.conception_probability_list[\n",
    "                    f.cycle_day]\n",
    "\n",
    "        self.end_cycling(switch_to_finished_cycling_list)\n",
    "\n",
    "        self.make_mating_pairs() if any(\n",
    "            [f.conception_probability for f in self.females_cycling]\n",
    "        ) else 0  # only run function to make mating pairs if conception is possible\n",
    "\n",
    "    def go_one_mating_season(self):\n",
    "\n",
    "        self.set_ranks()\n",
    "        self.males = sorted(self.males, key=self.sort_by_id)\n",
    "\n",
    "        while len(self.females_finished_cycling) < number_females:\n",
    "            self.go_one_day()\n",
    "\n",
    "    def determine_next_gen_parents(self):\n",
    "\n",
    "        self.females_finished_cycling = sorted(self.females_finished_cycling,\n",
    "                                               key=self.sort_by_id)\n",
    "\n",
    "        total_conception_probabilities = []\n",
    "        self.parents = []\n",
    "\n",
    "        for f in range(number_females):\n",
    "            self.mating_matrix[f] = [\n",
    "                fms / sum(self.mating_matrix[f])\n",
    "                for fms in self.mating_matrix[f]\n",
    "            ]\n",
    "\n",
    "        for _ in [0, 1]:\n",
    "            for mother in self.females_finished_cycling:\n",
    "\n",
    "                potential_fathers = np.random.choice(self.males, size=3)\n",
    "\n",
    "                father = random.choices(potential_fathers,\n",
    "                                        weights=self.mating_matrix[mother.id][[\n",
    "                                            p.id for p in potential_fathers\n",
    "                                        ]],\n",
    "                                        k=1)[0]\n",
    "\n",
    "                self.parents.append([mother, father])\n",
    "\n",
    "    def generate_offspring(self, max_non_cycling_days,\n",
    "                           conception_probability_list,\n",
    "                           mean_days_to_conception, sd_days_to_conception):\n",
    "\n",
    "        self.females_not_yet_cycling = []\n",
    "        self.males = []\n",
    "\n",
    "        self.parents = np.random.permutation(\n",
    "            self.parents)  # randomize order to avoid biasing offspring sex\n",
    "\n",
    "        for i, p in enumerate(\n",
    "                self.parents[:number_females]\n",
    "        ):  # loop through parents until reaching number females\n",
    "            new_gene = np.random.choice([p[0].gene, p[1].gene])\n",
    "            self.females_not_yet_cycling.append(\n",
    "                female(i,\n",
    "                       max_non_cycling_days,\n",
    "                       conception_probability_list,\n",
    "                       mean_days_to_conception,\n",
    "                       sd_days_to_conception,\n",
    "                       g=self.id,\n",
    "                       gene=new_gene))\n",
    "\n",
    "        for i, p in enumerate(\n",
    "                self.parents[number_males:]\n",
    "        ):  # loop through remaining parents until reaching number males\n",
    "            new_gene = np.random.choice([p[0].gene, p[1].gene])\n",
    "            self.males.append(male(i, g=self.id, gene=new_gene))\n",
    "\n",
    "    def reset(self):\n",
    "\n",
    "        self.females_finished_cycling = []\n",
    "\n",
    "        self.mating_matrix = np.array(\n",
    "            [np.array([1e-40] * number_males) for f in range(number_females)])\n",
    "\n",
    "    def mutate(self):\n",
    "\n",
    "        mutation_lottery = np.random.uniform(0, 1,\n",
    "                                             number_males + number_females)\n",
    "\n",
    "        number_mutations = sum(\n",
    "            [1 for m in mutation_lottery if m < mutation_rate])\n",
    "\n",
    "        for m in range(number_mutations):\n",
    "            agent_mutating = random.choice(self.males +\n",
    "                                           self.females_not_yet_cycling)\n",
    "            agent_mutating.gene += np.random.uniform(-0.05, 0.05)\n",
    "            if agent_mutating.gene > 1 or agent_mutating.gene < 0:\n",
    "                agent_mutating.gene = round(agent_mutating.gene)\n",
    "\n",
    "    def recombination(self):\n",
    "\n",
    "        pass\n",
    "\n",
    "    def make_agent_data_dfs(self):\n",
    "        all_females = np.concatenate([\n",
    "            np.array(self.females_not_yet_cycling),\n",
    "            np.array(self.females_cycling),\n",
    "            np.array(self.females_finished_cycling)\n",
    "        ])\n",
    "\n",
    "        self.female_data = pd.DataFrame({\n",
    "            'id': [f.id for f in all_females],\n",
    "            'status': [f.status for f in all_females],\n",
    "            'days until cycling': [f.days_until_cycling for f in all_females],\n",
    "            'days until conception':\n",
    "            [f.days_until_conception for f in all_females],\n",
    "            'conception probability':\n",
    "            [f.conception_probability for f in all_females],\n",
    "            'fertile mating success':\n",
    "            [round(np.sum(i), 2) for i in self.mating_matrix]\n",
    "        })\n",
    "\n",
    "        self.male_data = pd.DataFrame({\n",
    "            'rank': [f.rank for f in self.males],\n",
    "            'competitive effort': [f.competitive_effort for f in self.males],\n",
    "            'quality': [f.quality for f in self.males],\n",
    "            'fertile mating success':\n",
    "            [round(np.sum(i), 2) for i in self.mating_matrix.T]\n",
    "        })\n",
    "\n",
    "    def sort_by_id(self, agent):\n",
    "        return agent.id\n",
    "\n",
    "\n",
    "class population:\n",
    "\n",
    "    def __init__(self):\n",
    "\n",
    "        pre = ovulation - 6\n",
    "        post = cycle_length - pre - 6\n",
    "\n",
    "        self.max_non_cycling_days = round(365 - (365 * seasonality))\n",
    "\n",
    "        self.conception_probability_list = [0] * pre + [\n",
    "            .05784435, .16082819, .19820558, .25408223, .24362408, .10373275\n",
    "        ] + [0] * post\n",
    "\n",
    "        self.mean_days_to_conception = 50\n",
    "        self.sd_days_to_conception = 0  # * (1.0 - seasonality)\n",
    "\n",
    "        self.groups = [\n",
    "            group(g, self.max_non_cycling_days,\n",
    "                  self.conception_probability_list,\n",
    "                  self.mean_days_to_conception, self.sd_days_to_conception)\n",
    "            for g in range(number_groups)\n",
    "        ]\n",
    "\n",
    "    def migrate(self):\n",
    "\n",
    "        migration_lottery = np.random.uniform(\n",
    "            0, 1, (number_males + number_females) * number_groups)\n",
    "\n",
    "        number_migrations = sum(\n",
    "            [1 for m in migration_lottery if m < migration_rate])\n",
    "\n",
    "        number_females_migrating = random.randint(0, number_migrations)\n",
    "        number_males_migrating = number_migrations - number_females_migrating\n",
    "\n",
    "        self.groups_leaving = np.random.choice(self.groups,\n",
    "                                               size=number_migrations)\n",
    "        self.groups_coming = [\n",
    "            random.choice([i for i in self.groups if i != l])\n",
    "            for l in self.groups_leaving\n",
    "        ]\n",
    "\n",
    "        for gl, gc in zip(self.groups_leaving[:number_females_migrating],\n",
    "                          self.groups_coming[:number_females_migrating]):\n",
    "\n",
    "            fl = np.random.choice(gl.females_not_yet_cycling)\n",
    "            fc = np.random.choice(gc.females_not_yet_cycling)\n",
    "\n",
    "            gl.females_not_yet_cycling.remove(fl)\n",
    "            gc.females_not_yet_cycling.remove(fc)\n",
    "\n",
    "            gl.females_not_yet_cycling.append(fc)\n",
    "            gc.females_not_yet_cycling.append(fl)\n",
    "\n",
    "            fc.group_id = gl.id\n",
    "            fl.group_id = gc.id\n",
    "\n",
    "        for gl, gc in zip(self.groups_leaving[number_females_migrating:],\n",
    "                          self.groups_coming[number_females_migrating:]):\n",
    "\n",
    "            ml = np.random.choice(gl.males)\n",
    "            mc = np.random.choice(gc.males)\n",
    "\n",
    "            gl.males.remove(ml)\n",
    "            gc.males.remove(mc)\n",
    "\n",
    "            gl.males.append(mc)\n",
    "            gc.males.append(ml)\n",
    "\n",
    "            mc.group_id = gl.id\n",
    "            ml.group_id = gc.id\n",
    "\n",
    "    def evolve(self):\n",
    "        for _ in range(number_generations):\n",
    "            for g in self.groups:\n",
    "                g.go_one_mating_season()\n",
    "                g.determine_next_gen_parents()\n",
    "                g.generate_offspring(self.max_non_cycling_days,\n",
    "                                     self.conception_probability_list,\n",
    "                                     self.mean_days_to_conception,\n",
    "                                     self.sd_days_to_conception)\n",
    "                g.reset()\n",
    "                g.mutate()\n",
    "\n",
    "            self.migrate()\n",
    "            print(_) if np.random.uniform(0, 1) > 0.99 else 0\n",
    "\n",
    "        for g in self.groups:\n",
    "            g.set_ranks()\n",
    "            g.males = sorted(g.males, key=g.sort_by_id)\n",
    "\n",
    "    def make_mating_dfs(self):\n",
    "        self.mating_dfs = []\n",
    "        for g in self.groups:\n",
    "            self.mating_dfs.append(\n",
    "                pd.DataFrame(g.mating_matrix).round(2).set_axis(\n",
    "                    ['m{}'.format(m) for m in range(number_males)],\n",
    "                    axis=1,\n",
    "                    inplace=False).set_axis(\n",
    "                        ['f{}'.format(f) for f in range(number_females)],\n",
    "                        axis=0,\n",
    "                        inplace=False))\n",
    "\n",
    "\n",
    "number_generations = 100\n",
    "number_groups = 3\n",
    "number_females = 10\n",
    "number_males = 10\n",
    "seasonality = 0.0\n",
    "\n",
    "mutation_rate = 0.01\n",
    "migration_rate = 0.01\n",
    "cycle_length = 28\n",
    "ovulation = 16\n",
    "pre = ovulation - 6\n",
    "post = cycle_length - pre - 6\n",
    "\n",
    "real_time_plots = False"
   ]
  },
  {
   "cell_type": "code",
   "execution_count": 159,
   "metadata": {},
   "outputs": [
    {
     "name": "stdout",
     "output_type": "stream",
     "text": [
      "[master d2af774] Test\n",
      " 3 files changed, 45 insertions(+), 102 deletions(-)\n",
      "\u001b[KEnumerating objects: 9, done.\n",
      "\u001b[KCounting objects: 100% (9/9), done.\n",
      "Delta compression using up to 4 threads\n",
      "\u001b[KCompressing objects: 100% (5/5), done.\n",
      "\u001b[KWriting objects: 100% (5/5), 1.72 KiB | 587.00 KiB/s, done.\n",
      "Total 5 (delta 4), reused 0 (delta 0)\n",
      "remote: Resolving deltas: 100% (4/4), completed with 4 local objects.\u001b[K\n",
      "To github.com:kevinrosenfield/pymate.git\n",
      "   31dddf6..d2af774  master -> master\n",
      "Branch 'master' set up to track remote branch 'master' from 'origin'.\n"
     ]
    }
   ],
   "source": [
    "def update_github_files():\n",
    "    !git add ReproductiveSkewSimulations.ipynb\n",
    "    !git add ReproductiveSkewSimulations_v2.ipynb\n",
    "    !git add fertSignals_0d_GA_v2.ipynb\n",
    "    !git add pymate.py\n",
    "    !git add pymate_tests.ipynb\n",
    "    !git commit -m \"Test\"\n",
    "    !git push -u origin master\n",
    "    \n",
    "update_github_files()"
   ]
  },
  {
   "cell_type": "code",
   "execution_count": 128,
   "metadata": {
    "scrolled": false
   },
   "outputs": [
    {
     "data": {
      "text/plain": [
       "[{0.8: 0},\n",
       " {0.0: 7},\n",
       " {0.0: 3},\n",
       " {0.0: 4},\n",
       " {0.0: 5},\n",
       " {0.0: 1},\n",
       " {0.0: 8},\n",
       " {0.0: 9},\n",
       " {0.0: 6},\n",
       " {0.0: 2}]"
      ]
     },
     "execution_count": 128,
     "metadata": {},
     "output_type": "execute_result"
    }
   ],
   "source": [
    "number_generations = 10000\n",
    "model = population()\n",
    "\n",
    "model.groups[0].males[0].competitive_effort = 0.8\n",
    "model.groups[0].set_ranks()\n",
    "[{m.competitive_effort:m.rank} for m in model.groups[0].males]\n",
    "model.evolve()\n"
   ]
  },
  {
   "cell_type": "code",
   "execution_count": 121,
   "metadata": {},
   "outputs": [
    {
     "data": {
      "text/plain": [
       "['Rank: 0, Entries: 0.042850404483996636',\n",
       " 'Rank: 1, Entries: 0.04285853316182616',\n",
       " 'Rank: 2, Entries: 0.04285468810982328',\n",
       " 'Rank: 3, Entries: 0.042858465931716494',\n",
       " 'Rank: 4, Entries: 0.042857973945567354',\n",
       " 'Rank: 5, Entries: 0.04286166468290368',\n",
       " 'Rank: 6, Entries: 0.04286924227205548',\n",
       " 'Rank: 7, Entries: 0.04285964001441098',\n",
       " 'Rank: 8, Entries: 0.04286980148831428',\n",
       " 'Rank: 9, Entries: 0.04235811221008187']"
      ]
     },
     "execution_count": 121,
     "metadata": {},
     "output_type": "execute_result"
    }
   ],
   "source": [
    "[\n",
    "    \"Rank: {}, Entries: {}\".format(m.id, m.gene)\n",
    "    for m in model.groups[1].males\n",
    "]"
   ]
  },
  {
   "cell_type": "code",
   "execution_count": 112,
   "metadata": {},
   "outputs": [
    {
     "name": "stderr",
     "output_type": "stream",
     "text": [
      "/Users/kevinrosenfield/opt/anaconda3/lib/python3.7/site-packages/numpy/core/_asarray.py:171: VisibleDeprecationWarning: Creating an ndarray from ragged nested sequences (which is a list-or-tuple of lists-or-tuples-or ndarrays with different lengths or shapes) is deprecated. If you meant to do this, you must specify 'dtype=object' when creating the ndarray.\n",
      "  return array(a, dtype, copy=False, order=order, subok=True)\n"
     ]
    },
    {
     "ename": "ValueError",
     "evalue": "operands could not be broadcast together with shapes (0,) (101,) ",
     "output_type": "error",
     "traceback": [
      "\u001b[0;31m---------------------------------------------------------------------------\u001b[0m",
      "\u001b[0;31mValueError\u001b[0m                                Traceback (most recent call last)",
      "\u001b[0;32m<ipython-input-112-57706880973d>\u001b[0m in \u001b[0;36m<module>\u001b[0;34m\u001b[0m\n\u001b[0;32m----> 1\u001b[0;31m \u001b[0mplt\u001b[0m\u001b[0;34m.\u001b[0m\u001b[0mhist2d\u001b[0m\u001b[0;34m(\u001b[0m\u001b[0mrange\u001b[0m\u001b[0;34m(\u001b[0m\u001b[0mnumber_generations\u001b[0m\u001b[0;34m+\u001b[0m\u001b[0;36m1\u001b[0m\u001b[0;34m)\u001b[0m\u001b[0;34m,\u001b[0m\u001b[0mmodel\u001b[0m\u001b[0;34m.\u001b[0m\u001b[0mgroups\u001b[0m\u001b[0;34m[\u001b[0m\u001b[0;36m2\u001b[0m\u001b[0;34m]\u001b[0m\u001b[0;34m.\u001b[0m\u001b[0mlist_of_rank_quality_corrlations\u001b[0m\u001b[0;34m,\u001b[0m\u001b[0mbins\u001b[0m\u001b[0;34m=\u001b[0m\u001b[0;36m50\u001b[0m\u001b[0;34m)\u001b[0m\u001b[0;34m\u001b[0m\u001b[0;34m\u001b[0m\u001b[0m\n\u001b[0m\u001b[1;32m      2\u001b[0m \u001b[0mplt\u001b[0m\u001b[0;34m.\u001b[0m\u001b[0mylim\u001b[0m\u001b[0;34m(\u001b[0m\u001b[0;34m[\u001b[0m\u001b[0;34m-\u001b[0m\u001b[0;36m1\u001b[0m\u001b[0;34m,\u001b[0m\u001b[0;36m1\u001b[0m\u001b[0;34m]\u001b[0m\u001b[0;34m)\u001b[0m\u001b[0;34m\u001b[0m\u001b[0;34m\u001b[0m\u001b[0m\n\u001b[1;32m      3\u001b[0m \u001b[0;34m\u001b[0m\u001b[0m\n\u001b[1;32m      4\u001b[0m \u001b[0mplt\u001b[0m\u001b[0;34m.\u001b[0m\u001b[0mshow\u001b[0m\u001b[0;34m(\u001b[0m\u001b[0;34m)\u001b[0m\u001b[0;34m\u001b[0m\u001b[0;34m\u001b[0m\u001b[0m\n",
      "\u001b[0;32m~/opt/anaconda3/lib/python3.7/site-packages/matplotlib/pyplot.py\u001b[0m in \u001b[0;36mhist2d\u001b[0;34m(x, y, bins, range, density, weights, cmin, cmax, data, **kwargs)\u001b[0m\n\u001b[1;32m   2878\u001b[0m         \u001b[0mx\u001b[0m\u001b[0;34m,\u001b[0m \u001b[0my\u001b[0m\u001b[0;34m,\u001b[0m \u001b[0mbins\u001b[0m\u001b[0;34m=\u001b[0m\u001b[0mbins\u001b[0m\u001b[0;34m,\u001b[0m \u001b[0mrange\u001b[0m\u001b[0;34m=\u001b[0m\u001b[0mrange\u001b[0m\u001b[0;34m,\u001b[0m \u001b[0mdensity\u001b[0m\u001b[0;34m=\u001b[0m\u001b[0mdensity\u001b[0m\u001b[0;34m,\u001b[0m\u001b[0;34m\u001b[0m\u001b[0;34m\u001b[0m\u001b[0m\n\u001b[1;32m   2879\u001b[0m         \u001b[0mweights\u001b[0m\u001b[0;34m=\u001b[0m\u001b[0mweights\u001b[0m\u001b[0;34m,\u001b[0m \u001b[0mcmin\u001b[0m\u001b[0;34m=\u001b[0m\u001b[0mcmin\u001b[0m\u001b[0;34m,\u001b[0m \u001b[0mcmax\u001b[0m\u001b[0;34m=\u001b[0m\u001b[0mcmax\u001b[0m\u001b[0;34m,\u001b[0m\u001b[0;34m\u001b[0m\u001b[0;34m\u001b[0m\u001b[0m\n\u001b[0;32m-> 2880\u001b[0;31m         **({\"data\": data} if data is not None else {}), **kwargs)\n\u001b[0m\u001b[1;32m   2881\u001b[0m     \u001b[0msci\u001b[0m\u001b[0;34m(\u001b[0m\u001b[0m__ret\u001b[0m\u001b[0;34m[\u001b[0m\u001b[0;34m-\u001b[0m\u001b[0;36m1\u001b[0m\u001b[0;34m]\u001b[0m\u001b[0;34m)\u001b[0m\u001b[0;34m\u001b[0m\u001b[0;34m\u001b[0m\u001b[0m\n\u001b[1;32m   2882\u001b[0m     \u001b[0;32mreturn\u001b[0m \u001b[0m__ret\u001b[0m\u001b[0;34m\u001b[0m\u001b[0;34m\u001b[0m\u001b[0m\n",
      "\u001b[0;32m~/opt/anaconda3/lib/python3.7/site-packages/matplotlib/__init__.py\u001b[0m in \u001b[0;36minner\u001b[0;34m(ax, data, *args, **kwargs)\u001b[0m\n\u001b[1;32m   1359\u001b[0m     \u001b[0;32mdef\u001b[0m \u001b[0minner\u001b[0m\u001b[0;34m(\u001b[0m\u001b[0max\u001b[0m\u001b[0;34m,\u001b[0m \u001b[0;34m*\u001b[0m\u001b[0margs\u001b[0m\u001b[0;34m,\u001b[0m \u001b[0mdata\u001b[0m\u001b[0;34m=\u001b[0m\u001b[0;32mNone\u001b[0m\u001b[0;34m,\u001b[0m \u001b[0;34m**\u001b[0m\u001b[0mkwargs\u001b[0m\u001b[0;34m)\u001b[0m\u001b[0;34m:\u001b[0m\u001b[0;34m\u001b[0m\u001b[0;34m\u001b[0m\u001b[0m\n\u001b[1;32m   1360\u001b[0m         \u001b[0;32mif\u001b[0m \u001b[0mdata\u001b[0m \u001b[0;32mis\u001b[0m \u001b[0;32mNone\u001b[0m\u001b[0;34m:\u001b[0m\u001b[0;34m\u001b[0m\u001b[0;34m\u001b[0m\u001b[0m\n\u001b[0;32m-> 1361\u001b[0;31m             \u001b[0;32mreturn\u001b[0m \u001b[0mfunc\u001b[0m\u001b[0;34m(\u001b[0m\u001b[0max\u001b[0m\u001b[0;34m,\u001b[0m \u001b[0;34m*\u001b[0m\u001b[0mmap\u001b[0m\u001b[0;34m(\u001b[0m\u001b[0msanitize_sequence\u001b[0m\u001b[0;34m,\u001b[0m \u001b[0margs\u001b[0m\u001b[0;34m)\u001b[0m\u001b[0;34m,\u001b[0m \u001b[0;34m**\u001b[0m\u001b[0mkwargs\u001b[0m\u001b[0;34m)\u001b[0m\u001b[0;34m\u001b[0m\u001b[0;34m\u001b[0m\u001b[0m\n\u001b[0m\u001b[1;32m   1362\u001b[0m \u001b[0;34m\u001b[0m\u001b[0m\n\u001b[1;32m   1363\u001b[0m         \u001b[0mbound\u001b[0m \u001b[0;34m=\u001b[0m \u001b[0mnew_sig\u001b[0m\u001b[0;34m.\u001b[0m\u001b[0mbind\u001b[0m\u001b[0;34m(\u001b[0m\u001b[0max\u001b[0m\u001b[0;34m,\u001b[0m \u001b[0;34m*\u001b[0m\u001b[0margs\u001b[0m\u001b[0;34m,\u001b[0m \u001b[0;34m**\u001b[0m\u001b[0mkwargs\u001b[0m\u001b[0;34m)\u001b[0m\u001b[0;34m\u001b[0m\u001b[0;34m\u001b[0m\u001b[0m\n",
      "\u001b[0;32m~/opt/anaconda3/lib/python3.7/site-packages/matplotlib/axes/_axes.py\u001b[0m in \u001b[0;36mhist2d\u001b[0;34m(self, x, y, bins, range, density, weights, cmin, cmax, **kwargs)\u001b[0m\n\u001b[1;32m   7092\u001b[0m \u001b[0;34m\u001b[0m\u001b[0m\n\u001b[1;32m   7093\u001b[0m         h, xedges, yedges = np.histogram2d(x, y, bins=bins, range=range,\n\u001b[0;32m-> 7094\u001b[0;31m                                            density=density, weights=weights)\n\u001b[0m\u001b[1;32m   7095\u001b[0m \u001b[0;34m\u001b[0m\u001b[0m\n\u001b[1;32m   7096\u001b[0m         \u001b[0;32mif\u001b[0m \u001b[0mcmin\u001b[0m \u001b[0;32mis\u001b[0m \u001b[0;32mnot\u001b[0m \u001b[0;32mNone\u001b[0m\u001b[0;34m:\u001b[0m\u001b[0;34m\u001b[0m\u001b[0;34m\u001b[0m\u001b[0m\n",
      "\u001b[0;32m<__array_function__ internals>\u001b[0m in \u001b[0;36mhistogram2d\u001b[0;34m(*args, **kwargs)\u001b[0m\n",
      "\u001b[0;32m~/opt/anaconda3/lib/python3.7/site-packages/numpy/lib/twodim_base.py\u001b[0m in \u001b[0;36mhistogram2d\u001b[0;34m(x, y, bins, range, normed, weights, density)\u001b[0m\n\u001b[1;32m    742\u001b[0m         \u001b[0mxedges\u001b[0m \u001b[0;34m=\u001b[0m \u001b[0myedges\u001b[0m \u001b[0;34m=\u001b[0m \u001b[0masarray\u001b[0m\u001b[0;34m(\u001b[0m\u001b[0mbins\u001b[0m\u001b[0;34m)\u001b[0m\u001b[0;34m\u001b[0m\u001b[0;34m\u001b[0m\u001b[0m\n\u001b[1;32m    743\u001b[0m         \u001b[0mbins\u001b[0m \u001b[0;34m=\u001b[0m \u001b[0;34m[\u001b[0m\u001b[0mxedges\u001b[0m\u001b[0;34m,\u001b[0m \u001b[0myedges\u001b[0m\u001b[0;34m]\u001b[0m\u001b[0;34m\u001b[0m\u001b[0;34m\u001b[0m\u001b[0m\n\u001b[0;32m--> 744\u001b[0;31m     \u001b[0mhist\u001b[0m\u001b[0;34m,\u001b[0m \u001b[0medges\u001b[0m \u001b[0;34m=\u001b[0m \u001b[0mhistogramdd\u001b[0m\u001b[0;34m(\u001b[0m\u001b[0;34m[\u001b[0m\u001b[0mx\u001b[0m\u001b[0;34m,\u001b[0m \u001b[0my\u001b[0m\u001b[0;34m]\u001b[0m\u001b[0;34m,\u001b[0m \u001b[0mbins\u001b[0m\u001b[0;34m,\u001b[0m \u001b[0mrange\u001b[0m\u001b[0;34m,\u001b[0m \u001b[0mnormed\u001b[0m\u001b[0;34m,\u001b[0m \u001b[0mweights\u001b[0m\u001b[0;34m,\u001b[0m \u001b[0mdensity\u001b[0m\u001b[0;34m)\u001b[0m\u001b[0;34m\u001b[0m\u001b[0;34m\u001b[0m\u001b[0m\n\u001b[0m\u001b[1;32m    745\u001b[0m     \u001b[0;32mreturn\u001b[0m \u001b[0mhist\u001b[0m\u001b[0;34m,\u001b[0m \u001b[0medges\u001b[0m\u001b[0;34m[\u001b[0m\u001b[0;36m0\u001b[0m\u001b[0;34m]\u001b[0m\u001b[0;34m,\u001b[0m \u001b[0medges\u001b[0m\u001b[0;34m[\u001b[0m\u001b[0;36m1\u001b[0m\u001b[0;34m]\u001b[0m\u001b[0;34m\u001b[0m\u001b[0;34m\u001b[0m\u001b[0m\n\u001b[1;32m    746\u001b[0m \u001b[0;34m\u001b[0m\u001b[0m\n",
      "\u001b[0;32m<__array_function__ internals>\u001b[0m in \u001b[0;36mhistogramdd\u001b[0;34m(*args, **kwargs)\u001b[0m\n",
      "\u001b[0;32m~/opt/anaconda3/lib/python3.7/site-packages/numpy/lib/histograms.py\u001b[0m in \u001b[0;36mhistogramdd\u001b[0;34m(sample, bins, range, normed, weights, density)\u001b[0m\n\u001b[1;32m   1047\u001b[0m                 raise ValueError(\n\u001b[1;32m   1048\u001b[0m                     '`bins[{}]` must be positive, when an integer'.format(i))\n\u001b[0;32m-> 1049\u001b[0;31m             \u001b[0msmin\u001b[0m\u001b[0;34m,\u001b[0m \u001b[0msmax\u001b[0m \u001b[0;34m=\u001b[0m \u001b[0m_get_outer_edges\u001b[0m\u001b[0;34m(\u001b[0m\u001b[0msample\u001b[0m\u001b[0;34m[\u001b[0m\u001b[0;34m:\u001b[0m\u001b[0;34m,\u001b[0m\u001b[0mi\u001b[0m\u001b[0;34m]\u001b[0m\u001b[0;34m,\u001b[0m \u001b[0mrange\u001b[0m\u001b[0;34m[\u001b[0m\u001b[0mi\u001b[0m\u001b[0;34m]\u001b[0m\u001b[0;34m)\u001b[0m\u001b[0;34m\u001b[0m\u001b[0;34m\u001b[0m\u001b[0m\n\u001b[0m\u001b[1;32m   1050\u001b[0m             \u001b[0;32mtry\u001b[0m\u001b[0;34m:\u001b[0m\u001b[0;34m\u001b[0m\u001b[0;34m\u001b[0m\u001b[0m\n\u001b[1;32m   1051\u001b[0m                 \u001b[0mn\u001b[0m \u001b[0;34m=\u001b[0m \u001b[0moperator\u001b[0m\u001b[0;34m.\u001b[0m\u001b[0mindex\u001b[0m\u001b[0;34m(\u001b[0m\u001b[0mbins\u001b[0m\u001b[0;34m[\u001b[0m\u001b[0mi\u001b[0m\u001b[0;34m]\u001b[0m\u001b[0;34m)\u001b[0m\u001b[0;34m\u001b[0m\u001b[0;34m\u001b[0m\u001b[0m\n",
      "\u001b[0;32m~/opt/anaconda3/lib/python3.7/site-packages/numpy/lib/histograms.py\u001b[0m in \u001b[0;36m_get_outer_edges\u001b[0;34m(a, range)\u001b[0m\n\u001b[1;32m    319\u001b[0m         \u001b[0mfirst_edge\u001b[0m\u001b[0;34m,\u001b[0m \u001b[0mlast_edge\u001b[0m \u001b[0;34m=\u001b[0m \u001b[0;36m0\u001b[0m\u001b[0;34m,\u001b[0m \u001b[0;36m1\u001b[0m\u001b[0;34m\u001b[0m\u001b[0;34m\u001b[0m\u001b[0m\n\u001b[1;32m    320\u001b[0m     \u001b[0;32melse\u001b[0m\u001b[0;34m:\u001b[0m\u001b[0;34m\u001b[0m\u001b[0;34m\u001b[0m\u001b[0m\n\u001b[0;32m--> 321\u001b[0;31m         \u001b[0mfirst_edge\u001b[0m\u001b[0;34m,\u001b[0m \u001b[0mlast_edge\u001b[0m \u001b[0;34m=\u001b[0m \u001b[0ma\u001b[0m\u001b[0;34m.\u001b[0m\u001b[0mmin\u001b[0m\u001b[0;34m(\u001b[0m\u001b[0;34m)\u001b[0m\u001b[0;34m,\u001b[0m \u001b[0ma\u001b[0m\u001b[0;34m.\u001b[0m\u001b[0mmax\u001b[0m\u001b[0;34m(\u001b[0m\u001b[0;34m)\u001b[0m\u001b[0;34m\u001b[0m\u001b[0;34m\u001b[0m\u001b[0m\n\u001b[0m\u001b[1;32m    322\u001b[0m         \u001b[0;32mif\u001b[0m \u001b[0;32mnot\u001b[0m \u001b[0;34m(\u001b[0m\u001b[0mnp\u001b[0m\u001b[0;34m.\u001b[0m\u001b[0misfinite\u001b[0m\u001b[0;34m(\u001b[0m\u001b[0mfirst_edge\u001b[0m\u001b[0;34m)\u001b[0m \u001b[0;32mand\u001b[0m \u001b[0mnp\u001b[0m\u001b[0;34m.\u001b[0m\u001b[0misfinite\u001b[0m\u001b[0;34m(\u001b[0m\u001b[0mlast_edge\u001b[0m\u001b[0;34m)\u001b[0m\u001b[0;34m)\u001b[0m\u001b[0;34m:\u001b[0m\u001b[0;34m\u001b[0m\u001b[0;34m\u001b[0m\u001b[0m\n\u001b[1;32m    323\u001b[0m             raise ValueError(\n",
      "\u001b[0;32m~/opt/anaconda3/lib/python3.7/site-packages/numpy/core/_methods.py\u001b[0m in \u001b[0;36m_amin\u001b[0;34m(a, axis, out, keepdims, initial, where)\u001b[0m\n\u001b[1;32m     41\u001b[0m def _amin(a, axis=None, out=None, keepdims=False,\n\u001b[1;32m     42\u001b[0m           initial=_NoValue, where=True):\n\u001b[0;32m---> 43\u001b[0;31m     \u001b[0;32mreturn\u001b[0m \u001b[0mumr_minimum\u001b[0m\u001b[0;34m(\u001b[0m\u001b[0ma\u001b[0m\u001b[0;34m,\u001b[0m \u001b[0maxis\u001b[0m\u001b[0;34m,\u001b[0m \u001b[0;32mNone\u001b[0m\u001b[0;34m,\u001b[0m \u001b[0mout\u001b[0m\u001b[0;34m,\u001b[0m \u001b[0mkeepdims\u001b[0m\u001b[0;34m,\u001b[0m \u001b[0minitial\u001b[0m\u001b[0;34m,\u001b[0m \u001b[0mwhere\u001b[0m\u001b[0;34m)\u001b[0m\u001b[0;34m\u001b[0m\u001b[0;34m\u001b[0m\u001b[0m\n\u001b[0m\u001b[1;32m     44\u001b[0m \u001b[0;34m\u001b[0m\u001b[0m\n\u001b[1;32m     45\u001b[0m def _sum(a, axis=None, dtype=None, out=None, keepdims=False,\n",
      "\u001b[0;31mValueError\u001b[0m: operands could not be broadcast together with shapes (0,) (101,) "
     ]
    },
    {
     "data": {
      "image/png": "[encoded data removed]",
      "text/plain": [
       "<Figure size 432x288 with 1 Axes>"
      ]
     },
     "metadata": {
      "needs_background": "light"
     },
     "output_type": "display_data"
    }
   ],
   "source": [
    "plt.hist2d(range(number_generations+1),model.groups[2].list_of_rank_quality_corrlations,bins=50)\n",
    "plt.ylim([-1,1])\n",
    "\n",
    "plt.show()"
   ]
  },
  {
   "cell_type": "code",
   "execution_count": 113,
   "metadata": {},
   "outputs": [
    {
     "data": {
      "text/plain": [
       "(-1.0, 1.0)"
      ]
     },
     "execution_count": 113,
     "metadata": {},
     "output_type": "execute_result"
    },
    {
     "data": {
      "image/png": "[encoded data removed]",
      "text/plain": [
       "<Figure size 432x288 with 1 Axes>"
      ]
     },
     "metadata": {
      "needs_background": "light"
     },
     "output_type": "display_data"
    }
   ],
   "source": [
    "plt.figure()\n",
    "plt.plot(model.groups[0].list_of_rank_quality_corrlations,'bo')\n",
    "plt.ylim([-1,1])"
   ]
  },
  {
   "cell_type": "code",
   "execution_count": 114,
   "metadata": {},
   "outputs": [
    {
     "data": {
      "text/plain": [
       "(0.0, 1.0)"
      ]
     },
     "execution_count": 114,
     "metadata": {},
     "output_type": "execute_result"
    },
    {
     "data": {
      "image/png": "[encoded data removed]",
      "text/plain": [
       "<Figure size 432x288 with 1 Axes>"
      ]
     },
     "metadata": {
      "needs_background": "light"
     },
     "output_type": "display_data"
    }
   ],
   "source": [
    "plt.figure()\n",
    "plt.plot([m.id for m in model.groups[0].males], [m.quality for m in model.groups[0].males],'bo')\n",
    "plt.ylim([0,1])"
   ]
  },
  {
   "cell_type": "code",
   "execution_count": 115,
   "metadata": {},
   "outputs": [
    {
     "data": {
      "text/plain": [
       "0.006523623764044953"
      ]
     },
     "execution_count": 115,
     "metadata": {},
     "output_type": "execute_result"
    }
   ],
   "source": [
    "np.corrcoef([m.id for m in model.groups[0].males],\n",
    "            [m.quality for m in model.groups[0].males])[1, 0]"
   ]
  },
  {
   "cell_type": "code",
   "execution_count": null,
   "metadata": {},
   "outputs": [],
   "source": []
  },
  {
   "cell_type": "code",
   "execution_count": null,
   "metadata": {},
   "outputs": [],
   "source": [
    "model.conception_probability_list = [\n",
    "    .05784435, .16082819, .19820558, .25408223, .24362408, .10373275\n",
    "]"
   ]
  },
  {
   "cell_type": "code",
   "execution_count": null,
   "metadata": {},
   "outputs": [],
   "source": [
    "g_ = group(0)"
   ]
  },
  {
   "cell_type": "code",
   "execution_count": null,
   "metadata": {},
   "outputs": [],
   "source": [
    "g_.go_one_day()\n",
    "g_.go_one_day()\n",
    "\n",
    "ID, Today_Conc_Prob, Tot_Conc_Prob_f = [], [], []\n",
    "Rank, Quality, Tot_Conc_Prob_m = [], [], []\n",
    "\n",
    "for f in g_.females_cycling + g_.females_finished_cycling + g_.females_not_yet_cycling:\n",
    "    ID.append(int(f.id))\n",
    "    Today_Conc_Prob.append(f.conception_probability)\n",
    "    Tot_Conc_Prob_f.append(round(sum(g_.mating_matrix[f.id]), 2))\n",
    "\n",
    "for m in g_.males:\n",
    "    Rank.append(int(m.id))\n",
    "    Quality.append(m.quality)\n",
    "    Tot_Conc_Prob_m.append(round(sum(g_.mating_matrix.T[m.id]), 2))\n",
    "\n",
    "df_f = pd.DataFrame({\n",
    "    'ID': ID,\n",
    "    'Today_Conc_Prob': Today_Conc_Prob,\n",
    "    'Tot_Conc_Prob': Tot_Conc_Prob_f\n",
    "}).sort_values(by=['ID']).set_index(['ID', 'Today_Conc_Prob', 'Tot_Conc_Prob'])\n",
    "\n",
    "df_m = pd.DataFrame({\n",
    "    'Rank': Rank,\n",
    "    'Quality': Quality,\n",
    "    'Tot_Conc_Prob': Tot_Conc_Prob_m\n",
    "}).set_index(['Rank', 'Quality', 'Tot_Conc_Prob'])\n",
    "\n",
    "display(df_f, df_m)"
   ]
  },
  {
   "cell_type": "code",
   "execution_count": null,
   "metadata": {},
   "outputs": [],
   "source": [
    "g_.go_one_day()\n",
    "[f.days_until_cycling for f in g_.females_not_yet_cycling]"
   ]
  },
  {
   "cell_type": "code",
   "execution_count": null,
   "metadata": {},
   "outputs": [],
   "source": [
    "g_.go_one_day()\n",
    "[f.days_until_conception for f in g_.females_cycling]"
   ]
  },
  {
   "cell_type": "code",
   "execution_count": null,
   "metadata": {},
   "outputs": [],
   "source": [
    "[f.conception_probability for f in g_.females_cycling]"
   ]
  },
  {
   "cell_type": "code",
   "execution_count": null,
   "metadata": {},
   "outputs": [],
   "source": [
    "g_.mating_matrix"
   ]
  },
  {
   "cell_type": "code",
   "execution_count": null,
   "metadata": {
    "scrolled": true
   },
   "outputs": [],
   "source": [
    "[f.id for f in g_.females_cycling],[m.id for m in g_.males]"
   ]
  },
  {
   "cell_type": "code",
   "execution_count": null,
   "metadata": {},
   "outputs": [],
   "source": [
    "g_.determine_next_gen_parents()\n",
    "g_.parents"
   ]
  },
  {
   "cell_type": "code",
   "execution_count": 129,
   "metadata": {},
   "outputs": [
    {
     "data": {
      "text/plain": [
       "array([1, 2])"
      ]
     },
     "execution_count": 129,
     "metadata": {},
     "output_type": "execute_result"
    }
   ],
   "source": [
    "a = np.array([1,2])\n",
    "b = a\n",
    "b = np.append(b,3)\n",
    "a"
   ]
  },
  {
   "cell_type": "code",
   "execution_count": null,
   "metadata": {},
   "outputs": [],
   "source": []
  }
 ],
 "metadata": {
  "kernelspec": {
   "display_name": "Python 3",
   "language": "python",
   "name": "python3"
  },
  "language_info": {
   "codemirror_mode": {
    "name": "ipython",
    "version": 3
   },
   "file_extension": ".py",
   "mimetype": "text/x-python",
   "name": "python",
   "nbconvert_exporter": "python",
   "pygments_lexer": "ipython3",
   "version": "3.7.4"
  },
  "varInspector": {
   "cols": {
    "lenName": 16,
    "lenType": 16,
    "lenVar": 40
   },
   "kernels_config": {
    "python": {
     "delete_cmd_postfix": "",
     "delete_cmd_prefix": "del ",
     "library": "var_list.py",
     "varRefreshCmd": "print(var_dic_list())"
    },
    "r": {
     "delete_cmd_postfix": ") ",
     "delete_cmd_prefix": "rm(",
     "library": "var_list.r",
     "varRefreshCmd": "cat(var_dic_list()) "
    }
   },
   "types_to_exclude": [
    "module",
    "function",
    "builtin_function_or_method",
    "instance",
    "_Feature"
   ],
   "window_display": false
  }
 },
 "nbformat": 4,
 "nbformat_minor": 2
}
